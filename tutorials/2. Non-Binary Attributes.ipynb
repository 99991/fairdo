{
 "cells": [
  {
   "cell_type": "code",
   "execution_count": 4,
   "id": "2420c4f2",
   "metadata": {},
   "outputs": [],
   "source": [
    "import numpy as np\n",
    "import pandas as pd\n",
    "from sklearn.preprocessing import LabelEncoder\n",
    "import matplotlib.pyplot as plt\n",
    "\n",
    "from fado.preprocessing import MetricOptimizer"
   ]
  },
  {
   "cell_type": "markdown",
   "id": "e0c22d93",
   "metadata": {},
   "source": [
    "## Fairness Metrics for non-binary Attributes"
   ]
  },
  {
   "cell_type": "markdown",
   "id": "1e1491d8",
   "metadata": {},
   "source": [
    "A discrimination measure $\\psi: X \\times Y \\times \\hat{Y} \\times Z \\rightarrow [0, 1]$ takes features, labels, predictions, and the protected attribute as input and outputs a score between 0 and 1.\n",
    "\n",
    "Possible measurements are: sum over the differences of all groups or simply taking the maximum difference between all groups.\n",
    "\n",
    "For equality of opp., predictive parity, and equalized odds, it is mandatory to implement additive smoothing or linear interpolation smoothing."
   ]
  },
  {
   "cell_type": "code",
   "execution_count": 174,
   "id": "4caa0b9c",
   "metadata": {},
   "outputs": [],
   "source": [
    "def nb_statistical_parity_sum_abs_difference(y: np.array, z: np.array, **kwargs):\n",
    "    \"\"\"\n",
    "    Difference in statistical parity\n",
    "\n",
    "    Parameters\n",
    "    ----------\n",
    "    y: flattened binary array\n",
    "        can be the prediction or the truth label\n",
    "    z: flattened array of shape y\n",
    "        protected attribute. It holds integer values.\n",
    "        \n",
    "    positive_label: int\n",
    "    privileged_group: int\n",
    "\n",
    "    Returns\n",
    "    -------\n",
    "\n",
    "    \"\"\"\n",
    "    \n",
    "    y = y.astype(int)\n",
    "    z = z.astype(int)\n",
    "    \n",
    "    sum_diff = 0\n",
    "    groups = list(set(z))\n",
    "    for i in range(len(groups)):\n",
    "        for j in range(i+1, len(groups)):\n",
    "            sum_diff += np.abs(np.sum(y & (z==groups[i]))/np.sum(z==groups[i]) -\n",
    "                               np.sum(y & (z==groups[j]))/np.sum(z==groups[j]))\n",
    "    \n",
    "    return sum_diff\n",
    "\n",
    "\n",
    "def nb_statistical_parity_max_difference(y: np.array, z: np.array, **kwargs):\n",
    "    \"\"\"\n",
    "    Difference in statistical parity\n",
    "\n",
    "    Parameters\n",
    "    ----------\n",
    "    y: flattened binary array\n",
    "        can be the prediction or the truth label\n",
    "    z: flattened array of shape y\n",
    "        protected attribute. It holds integer values.\n",
    "        \n",
    "    positive_label: int\n",
    "    privileged_group: int\n",
    "\n",
    "    Returns\n",
    "    -------\n",
    "\n",
    "    \"\"\"\n",
    "    \n",
    "    y = y.astype(int)\n",
    "    z = z.astype(int)\n",
    "    \n",
    "    max_diff = 0\n",
    "    groups = list(set(z))\n",
    "    for i in range(len(groups)):\n",
    "        for j in range(i+1, len(groups)):\n",
    "            diff = np.abs(np.sum(y & (z==groups[i]))/np.sum(z==groups[i]) -\n",
    "                              np.sum(y & (z==groups[j]))/np.sum(z==groups[j]))\n",
    "            max_diff = diff if diff > max_diff else max_diff\n",
    "    return max_diff"
   ]
  },
  {
   "cell_type": "code",
   "execution_count": 208,
   "id": "e29b1260",
   "metadata": {},
   "outputs": [],
   "source": [
    "z = np.random.randint(0, 5, size=(500,))"
   ]
  },
  {
   "cell_type": "code",
   "execution_count": 209,
   "id": "bbec3e88",
   "metadata": {},
   "outputs": [],
   "source": [
    "y = np.random.randint(0, 2, size=(500,))"
   ]
  },
  {
   "cell_type": "code",
   "execution_count": 177,
   "id": "32535129",
   "metadata": {},
   "outputs": [
    {
     "data": {
      "text/plain": [
       "0.6251618466373035"
      ]
     },
     "execution_count": 177,
     "metadata": {},
     "output_type": "execute_result"
    }
   ],
   "source": [
    "nb_statistical_parity_sum_abs_difference(y, z)"
   ]
  },
  {
   "cell_type": "code",
   "execution_count": 178,
   "id": "980a1a8f",
   "metadata": {},
   "outputs": [
    {
     "data": {
      "text/plain": [
       "0.11767383634915213"
      ]
     },
     "execution_count": 178,
     "metadata": {},
     "output_type": "execute_result"
    }
   ],
   "source": [
    "nb_statistical_parity_max_difference(y, z)"
   ]
  },
  {
   "cell_type": "code",
   "execution_count": null,
   "id": "f42f02b9",
   "metadata": {},
   "outputs": [],
   "source": []
  },
  {
   "cell_type": "code",
   "execution_count": 188,
   "id": "018f95ad",
   "metadata": {},
   "outputs": [
    {
     "data": {
      "text/plain": [
       "array([[60.,  0.,  0., 58.],\n",
       "       [69.,  0.,  0., 73.],\n",
       "       [75.,  0.,  0., 51.],\n",
       "       [55.,  0.,  0., 59.]])"
      ]
     },
     "execution_count": 188,
     "metadata": {},
     "output_type": "execute_result"
    }
   ],
   "source": [
    "np.histogram2d(z, y, bins=4)[0]"
   ]
  },
  {
   "cell_type": "code",
   "execution_count": 192,
   "id": "4b69e657",
   "metadata": {},
   "outputs": [
    {
     "data": {
      "text/plain": [
       "array([[ 60.,  58.],\n",
       "       [ 69.,  73.],\n",
       "       [130., 110.]])"
      ]
     },
     "execution_count": 192,
     "metadata": {},
     "output_type": "execute_result"
    }
   ],
   "source": [
    "np.histogram2d(z, y, bins=(3, 2))[0]"
   ]
  },
  {
   "cell_type": "code",
   "execution_count": 195,
   "id": "3525c7d8",
   "metadata": {},
   "outputs": [
    {
     "data": {
      "text/plain": [
       "array([[57., 48.],\n",
       "       [41., 47.],\n",
       "       [59., 57.],\n",
       "       [96., 95.]])"
      ]
     },
     "execution_count": 195,
     "metadata": {},
     "output_type": "execute_result"
    }
   ],
   "source": [
    "np.histogram2d(z, y, bins=(4, 2))[0]"
   ]
  },
  {
   "cell_type": "code",
   "execution_count": 200,
   "id": "6bbbee43",
   "metadata": {},
   "outputs": [
    {
     "data": {
      "text/plain": [
       "array([[57., 48.],\n",
       "       [41., 47.],\n",
       "       [ 0.,  0.],\n",
       "       [59., 57.],\n",
       "       [43., 47.],\n",
       "       [53., 48.]])"
      ]
     },
     "execution_count": 200,
     "metadata": {},
     "output_type": "execute_result"
    }
   ],
   "source": [
    "np.histogram2d(z, y, bins=(6, 2))[0]"
   ]
  },
  {
   "cell_type": "code",
   "execution_count": 211,
   "id": "d43534ef",
   "metadata": {},
   "outputs": [
    {
     "data": {
      "text/plain": [
       "array([[57., 54.],\n",
       "       [55., 50.],\n",
       "       [52., 49.],\n",
       "       [54., 39.],\n",
       "       [39., 51.]])"
      ]
     },
     "execution_count": 211,
     "metadata": {},
     "output_type": "execute_result"
    }
   ],
   "source": [
    "np.histogram2d(z, y, bins=(5, 2))[0]"
   ]
  },
  {
   "cell_type": "code",
   "execution_count": 212,
   "id": "0d46e1a0",
   "metadata": {},
   "outputs": [
    {
     "data": {
      "text/plain": [
       "5"
      ]
     },
     "execution_count": 212,
     "metadata": {},
     "output_type": "execute_result"
    }
   ],
   "source": [
    "len(set(z))"
   ]
  },
  {
   "cell_type": "code",
   "execution_count": null,
   "id": "bb830b16",
   "metadata": {},
   "outputs": [],
   "source": []
  }
 ],
 "metadata": {
  "kernelspec": {
   "display_name": "fair",
   "language": "python",
   "name": "fair"
  },
  "language_info": {
   "codemirror_mode": {
    "name": "ipython",
    "version": 3
   },
   "file_extension": ".py",
   "mimetype": "text/x-python",
   "name": "python",
   "nbconvert_exporter": "python",
   "pygments_lexer": "ipython3",
   "version": "3.8.13"
  }
 },
 "nbformat": 4,
 "nbformat_minor": 5
}
