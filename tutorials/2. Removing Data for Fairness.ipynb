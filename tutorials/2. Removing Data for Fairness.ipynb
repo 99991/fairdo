{
 "cells": [
  {
   "cell_type": "code",
   "execution_count": 1,
   "id": "afe3615f",
   "metadata": {},
   "outputs": [],
   "source": [
    "import numpy as np\n",
    "import pandas as pd\n",
    "from sklearn.preprocessing import LabelEncoder\n",
    "import matplotlib.pyplot as plt\n",
    "\n",
    "from fado.preprocessing import MetricOptimizer"
   ]
  },
  {
   "cell_type": "markdown",
   "id": "36986d0e",
   "metadata": {},
   "source": [
    "## 1. Load Dataset\n",
    "\n",
    "This code loads the popular iris dataset from a remote location on GitHub using pandas. The dataset contains measurements of the sepal length, sepal width, petal length, and petal width of three species of iris flowers: setosa, versicolor, and virginica.\n",
    "\n",
    "We use label encoding by scikit-learn's LabelEncoder class to convert the non-numeric species column into numeric labels. This transformation is stored in a new variable called 'iris_transform'.\n",
    "\n",
    "After that, the code changes the 'species' column to a binary format, where '0' represents setosa and '1' represents versicolor and virginica. Species represent the protected attribute which corresponds to race, nationality, and gender as available in many real world datasets.\n",
    "\n",
    "We use the 'petal_length' column as the label, we is binarized where values greater than 9 are assigned '1' and values less than or equal to 9 are assigned '0'."
   ]
  },
  {
   "cell_type": "code",
   "execution_count": 2,
   "id": "c25a75af",
   "metadata": {},
   "outputs": [],
   "source": [
    "iris = pd.read_csv('https://raw.githubusercontent.com/mwaskom/seaborn-data/master/iris.csv')\n",
    "\n",
    "# encode non-numeric columns to labels\n",
    "le = LabelEncoder()\n",
    "iris_transform = iris.apply(le.fit_transform)\n",
    "\n",
    "# make species binary\n",
    "iris_transform['species'] = iris_transform['species'] == 0\n",
    "\n",
    "# make label\n",
    "iris_transform['petal_length'] = iris_transform['petal_length'] > 9"
   ]
  },
  {
   "cell_type": "code",
   "execution_count": 3,
   "id": "5ab4883a",
   "metadata": {},
   "outputs": [
    {
     "data": {
      "text/html": [
       "<div>\n",
       "<style scoped>\n",
       "    .dataframe tbody tr th:only-of-type {\n",
       "        vertical-align: middle;\n",
       "    }\n",
       "\n",
       "    .dataframe tbody tr th {\n",
       "        vertical-align: top;\n",
       "    }\n",
       "\n",
       "    .dataframe thead th {\n",
       "        text-align: right;\n",
       "    }\n",
       "</style>\n",
       "<table border=\"1\" class=\"dataframe\">\n",
       "  <thead>\n",
       "    <tr style=\"text-align: right;\">\n",
       "      <th></th>\n",
       "      <th>sepal_length</th>\n",
       "      <th>sepal_width</th>\n",
       "      <th>petal_length</th>\n",
       "      <th>petal_width</th>\n",
       "      <th>species</th>\n",
       "    </tr>\n",
       "  </thead>\n",
       "  <tbody>\n",
       "    <tr>\n",
       "      <th>0</th>\n",
       "      <td>8</td>\n",
       "      <td>14</td>\n",
       "      <td>False</td>\n",
       "      <td>1</td>\n",
       "      <td>True</td>\n",
       "    </tr>\n",
       "    <tr>\n",
       "      <th>1</th>\n",
       "      <td>6</td>\n",
       "      <td>9</td>\n",
       "      <td>False</td>\n",
       "      <td>1</td>\n",
       "      <td>True</td>\n",
       "    </tr>\n",
       "    <tr>\n",
       "      <th>2</th>\n",
       "      <td>4</td>\n",
       "      <td>11</td>\n",
       "      <td>False</td>\n",
       "      <td>1</td>\n",
       "      <td>True</td>\n",
       "    </tr>\n",
       "    <tr>\n",
       "      <th>3</th>\n",
       "      <td>3</td>\n",
       "      <td>10</td>\n",
       "      <td>False</td>\n",
       "      <td>1</td>\n",
       "      <td>True</td>\n",
       "    </tr>\n",
       "    <tr>\n",
       "      <th>4</th>\n",
       "      <td>7</td>\n",
       "      <td>15</td>\n",
       "      <td>False</td>\n",
       "      <td>1</td>\n",
       "      <td>True</td>\n",
       "    </tr>\n",
       "  </tbody>\n",
       "</table>\n",
       "</div>"
      ],
      "text/plain": [
       "   sepal_length  sepal_width  petal_length  petal_width  species\n",
       "0             8           14         False            1     True\n",
       "1             6            9         False            1     True\n",
       "2             4           11         False            1     True\n",
       "3             3           10         False            1     True\n",
       "4             7           15         False            1     True"
      ]
     },
     "execution_count": 3,
     "metadata": {},
     "output_type": "execute_result"
    }
   ],
   "source": [
    "iris_transform.head()"
   ]
  },
  {
   "cell_type": "markdown",
   "id": "7f2fdb6d",
   "metadata": {},
   "source": [
    "## 2. Data Removal"
   ]
  },
  {
   "cell_type": "code",
   "execution_count": 4,
   "id": "b82aac38",
   "metadata": {},
   "outputs": [],
   "source": [
    "# Initialize MetricOptimizer\n",
    "# Keep 75\\% of the whole dataset\n",
    "preproc = MetricOptimizer(frac=0.75,\n",
    "                          protected_attribute='species',\n",
    "                          label='petal_length')"
   ]
  },
  {
   "cell_type": "code",
   "execution_count": 5,
   "id": "ee1007f3",
   "metadata": {},
   "outputs": [],
   "source": [
    "# Create pre-processing instance\n",
    "preproc = preproc.fit(iris_transform)\n",
    "# Remove samples to yield a fair dataset\n",
    "iris_fair = preproc.transform()"
   ]
  },
  {
   "cell_type": "markdown",
   "id": "1c3efe05",
   "metadata": {},
   "source": [
    "### 2.1 Compare Fairness/Discrimination"
   ]
  },
  {
   "cell_type": "code",
   "execution_count": 6,
   "id": "d867eed8",
   "metadata": {},
   "outputs": [],
   "source": [
    "from fado.metrics import statistical_parity_absolute_difference"
   ]
  },
  {
   "cell_type": "code",
   "execution_count": 7,
   "id": "86d52d4c",
   "metadata": {},
   "outputs": [],
   "source": [
    "discrimination_fair = statistical_parity_absolute_difference(iris_fair['petal_length'], iris_fair['species'])\n",
    "discrimination_orig = statistical_parity_absolute_difference(iris_transform['petal_length'], iris_transform['species'])"
   ]
  },
  {
   "cell_type": "code",
   "execution_count": 8,
   "id": "ff66aff2",
   "metadata": {},
   "outputs": [
    {
     "name": "stdout",
     "output_type": "stream",
     "text": [
      "The original dataset has a statistical disparity (absolute) value of: 0.99\n",
      "The pre-processed fair dataset has a statistical disparity (absolute) value of: 0.984375\n",
      "(Lower is better.)\n"
     ]
    }
   ],
   "source": [
    "print(f'The original dataset has a statistical disparity (absolute) value of: {discrimination_orig}')\n",
    "print(f'The pre-processed fair dataset has a statistical disparity (absolute) value of: {discrimination_fair}')\n",
    "print('(Lower is better.)')"
   ]
  },
  {
   "cell_type": "code",
   "execution_count": null,
   "id": "03a086fe",
   "metadata": {},
   "outputs": [],
   "source": []
  }
 ],
 "metadata": {
  "kernelspec": {
   "display_name": "fair",
   "language": "python",
   "name": "fair"
  },
  "language_info": {
   "codemirror_mode": {
    "name": "ipython",
    "version": 3
   },
   "file_extension": ".py",
   "mimetype": "text/x-python",
   "name": "python",
   "nbconvert_exporter": "python",
   "pygments_lexer": "ipython3",
   "version": "3.8.13"
  }
 },
 "nbformat": 4,
 "nbformat_minor": 5
}
