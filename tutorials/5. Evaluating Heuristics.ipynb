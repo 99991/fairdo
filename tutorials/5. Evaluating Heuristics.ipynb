{
 "cells": [
  {
   "cell_type": "code",
   "execution_count": 1,
   "id": "79d56222",
   "metadata": {},
   "outputs": [],
   "source": [
    "import numpy as np\n",
    "import pandas as pd\n",
    "from sklearn.preprocessing import LabelEncoder\n",
    "import matplotlib.pyplot as plt\n",
    "\n",
    "from fado.preprocessing import MetricOptimizer"
   ]
  },
  {
   "cell_type": "code",
   "execution_count": 2,
   "id": "72080ebc",
   "metadata": {},
   "outputs": [],
   "source": [
    "iris = pd.read_csv('https://raw.githubusercontent.com/mwaskom/seaborn-data/master/iris.csv')\n",
    "\n",
    "# encode non-numeric columns to labels\n",
    "le = LabelEncoder()\n",
    "iris_transform = iris.apply(le.fit_transform)\n",
    "\n",
    "# make species binary\n",
    "iris_transform['species'] = iris_transform['species'] == 0\n",
    "\n",
    "# make label\n",
    "iris_transform['petal_length'] = iris_transform['petal_length'] > 9\n",
    "\n",
    "protected_attribute = 'species'\n",
    "label = 'petal_length'"
   ]
  },
  {
   "cell_type": "code",
   "execution_count": 3,
   "id": "d6e92dbe",
   "metadata": {},
   "outputs": [],
   "source": [
    "# Initialize MetricOptimizer\n",
    "# Keep 75\\% of the whole dataset\n",
    "preproc = MetricOptimizer(frac=0.75,\n",
    "                          protected_attribute='species',\n",
    "                          label='petal_length')"
   ]
  },
  {
   "cell_type": "code",
   "execution_count": 4,
   "id": "89120420",
   "metadata": {},
   "outputs": [],
   "source": [
    "# Fit data\n",
    "preproc = preproc.fit(iris_transform)\n",
    "# Remove samples to yield a fair dataset\n",
    "iris_fair = preproc.transform()"
   ]
  },
  {
   "cell_type": "markdown",
   "id": "d826de7a",
   "metadata": {},
   "source": [
    "### Genetic Algorithm (Solver)"
   ]
  },
  {
   "cell_type": "code",
   "execution_count": 5,
   "id": "a96e473c",
   "metadata": {},
   "outputs": [],
   "source": [
    "from fado.metrics import statistical_parity_absolute_difference\n",
    "# heuristic test\n",
    "from fado.preprocessing.solvers.geneticalgorithm import genetic_algorithm_uniform_method\n",
    "from fado.preprocessing import HeuristicWrapper"
   ]
  },
  {
   "cell_type": "code",
   "execution_count": 6,
   "id": "c8eae1e8",
   "metadata": {},
   "outputs": [],
   "source": [
    "heuristic = genetic_algorithm_uniform_method\n",
    "disc_measure = statistical_parity_absolute_difference\n",
    "preproc_heuristics = HeuristicWrapper(heuristic, disc_measure=disc_measure,\n",
    "                protected_attribute=protected_attribute,\n",
    "                label=label)"
   ]
  },
  {
   "cell_type": "code",
   "execution_count": 7,
   "id": "dfb93824",
   "metadata": {},
   "outputs": [],
   "source": [
    "# Create pre-processing instance\n",
    "preproc_heuristics.fit(iris_transform)\n",
    "# Remove samples to yield a fair dataset\n",
    "iris_fair_heuristic = preproc_heuristics.transform()"
   ]
  },
  {
   "cell_type": "code",
   "execution_count": 15,
   "id": "3cc0f787",
   "metadata": {},
   "outputs": [],
   "source": [
    "disc_fair = statistical_parity_absolute_difference(iris_fair['petal_length'], iris_fair['species'])\n",
    "disc_fair_heuristic = statistical_parity_absolute_difference(iris_fair_heuristic['petal_length'], iris_fair_heuristic['species'])\n",
    "disc_orig = statistical_parity_absolute_difference(iris_transform['petal_length'], iris_transform['species'])"
   ]
  },
  {
   "cell_type": "code",
   "execution_count": 17,
   "id": "90f841ad",
   "metadata": {
    "scrolled": true
   },
   "outputs": [
    {
     "name": "stdout",
     "output_type": "stream",
     "text": [
      "The original dataset has a statistical disparity (absolute) value of: 0.99\n",
      "The pre-processed fair dataset has a statistical disparity (absolute) value of: 0.9841269841269841\n",
      "The pre-processed fair dataset with GA has a statistical disparity (absolute) value of: 0.0\n",
      "(Lower is better.)\n"
     ]
    }
   ],
   "source": [
    "print(f'The original dataset has a statistical disparity (absolute) value of: {disc_orig}')\n",
    "print(f'The pre-processed fair dataset has a statistical disparity (absolute) value of: {disc_fair}')\n",
    "print(f'The pre-processed fair dataset with GA has a statistical disparity (absolute) value of: {disc_fair_heuristic}')\n",
    "print('(Lower is better.)')"
   ]
  },
  {
   "cell_type": "code",
   "execution_count": null,
   "id": "da335e79",
   "metadata": {},
   "outputs": [],
   "source": []
  },
  {
   "cell_type": "code",
   "execution_count": null,
   "id": "5ff0a1ac",
   "metadata": {},
   "outputs": [],
   "source": []
  },
  {
   "cell_type": "code",
   "execution_count": null,
   "id": "2fb25ee9",
   "metadata": {},
   "outputs": [],
   "source": []
  }
 ],
 "metadata": {
  "kernelspec": {
   "display_name": "fair",
   "language": "python",
   "name": "fair"
  },
  "language_info": {
   "codemirror_mode": {
    "name": "ipython",
    "version": 3
   },
   "file_extension": ".py",
   "mimetype": "text/x-python",
   "name": "python",
   "nbconvert_exporter": "python",
   "pygments_lexer": "ipython3",
   "version": "3.8.13"
  }
 },
 "nbformat": 4,
 "nbformat_minor": 5
}
