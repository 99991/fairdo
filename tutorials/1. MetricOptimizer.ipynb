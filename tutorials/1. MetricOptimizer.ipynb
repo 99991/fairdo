{
 "cells": [
  {
   "cell_type": "code",
   "execution_count": 1,
   "id": "08dbe497",
   "metadata": {},
   "outputs": [
    {
     "ename": "ModuleNotFoundError",
     "evalue": "No module named 'fado'",
     "output_type": "error",
     "traceback": [
      "\u001b[1;31m---------------------------------------------------------------------------\u001b[0m",
      "\u001b[1;31mModuleNotFoundError\u001b[0m                       Traceback (most recent call last)",
      "Input \u001b[1;32mIn [1]\u001b[0m, in \u001b[0;36m<cell line: 4>\u001b[1;34m()\u001b[0m\n\u001b[0;32m      1\u001b[0m \u001b[38;5;28;01mfrom\u001b[39;00m \u001b[38;5;21;01msklearn\u001b[39;00m\u001b[38;5;21;01m.\u001b[39;00m\u001b[38;5;21;01mpreprocessing\u001b[39;00m \u001b[38;5;28;01mimport\u001b[39;00m LabelEncoder\n\u001b[0;32m      2\u001b[0m \u001b[38;5;28;01mimport\u001b[39;00m \u001b[38;5;21;01mpandas\u001b[39;00m \u001b[38;5;28;01mas\u001b[39;00m \u001b[38;5;21;01mpd\u001b[39;00m\n\u001b[1;32m----> 4\u001b[0m \u001b[38;5;28;01mfrom\u001b[39;00m \u001b[38;5;21;01mfado\u001b[39;00m\u001b[38;5;21;01m.\u001b[39;00m\u001b[38;5;21;01mpreprocessing\u001b[39;00m \u001b[38;5;28;01mimport\u001b[39;00m MetricOptimizer\n",
      "\u001b[1;31mModuleNotFoundError\u001b[0m: No module named 'fado'"
     ]
    }
   ],
   "source": [
    "from sklearn.preprocessing import LabelEncoder\n",
    "import pandas as pd\n",
    "\n",
    "from fado.preprocessing import MetricOptimizer"
   ]
  },
  {
   "cell_type": "markdown",
   "id": "be20bec9",
   "metadata": {},
   "source": [
    "## Load Dataset"
   ]
  },
  {
   "cell_type": "code",
   "execution_count": null,
   "id": "90cb16b0",
   "metadata": {},
   "outputs": [],
   "source": [
    "iris = pd.read_csv('https://raw.githubusercontent.com/mwaskom/seaborn-data/master/iris.csv')\n",
    "\n",
    "# encode non-numeric columns to labels\n",
    "le = LabelEncoder()\n",
    "iris_transform = iris.apply(le.fit_transform)\n",
    "\n",
    "# make species binary\n",
    "iris_transform['species'] = iris_transform['species'] == 0\n",
    "\n",
    "# make label\n",
    "iris_transform['petal_length'] = iris_transform['petal_length'] > 9"
   ]
  },
  {
   "cell_type": "code",
   "execution_count": null,
   "id": "19fc6eb5",
   "metadata": {},
   "outputs": [],
   "source": [
    "iris"
   ]
  },
  {
   "cell_type": "markdown",
   "id": "535aa98b",
   "metadata": {},
   "source": [
    "## Initialize MetricOptimizer"
   ]
  },
  {
   "cell_type": "code",
   "execution_count": null,
   "id": "7c57a2be",
   "metadata": {},
   "outputs": [],
   "source": [
    "# Remove 25% of the dataset\n",
    "preproc = MetricOptimizer(frac=0.75,\n",
    "                          protected_attribute='species',\n",
    "                          label='petal_length')"
   ]
  },
  {
   "cell_type": "code",
   "execution_count": null,
   "id": "aa2509bb",
   "metadata": {},
   "outputs": [],
   "source": [
    "preproc = preproc.fit(iris_transform)"
   ]
  },
  {
   "cell_type": "markdown",
   "id": "2626f897",
   "metadata": {},
   "source": [
    "### Get Fair Dataset"
   ]
  },
  {
   "cell_type": "code",
   "execution_count": null,
   "id": "6abe2d18",
   "metadata": {},
   "outputs": [],
   "source": [
    "iris_fair = preproc.transform()"
   ]
  },
  {
   "cell_type": "code",
   "execution_count": null,
   "id": "a4ec2cb9",
   "metadata": {},
   "outputs": [],
   "source": [
    "iris_fair"
   ]
  },
  {
   "cell_type": "code",
   "execution_count": null,
   "id": "6022476a",
   "metadata": {},
   "outputs": [],
   "source": []
  }
 ],
 "metadata": {
  "kernelspec": {
   "display_name": "fairness",
   "language": "python",
   "name": "fairness"
  },
  "language_info": {
   "codemirror_mode": {
    "name": "ipython",
    "version": 3
   },
   "file_extension": ".py",
   "mimetype": "text/x-python",
   "name": "python",
   "nbconvert_exporter": "python",
   "pygments_lexer": "ipython3",
   "version": "3.8.13"
  }
 },
 "nbformat": 4,
 "nbformat_minor": 5
}
