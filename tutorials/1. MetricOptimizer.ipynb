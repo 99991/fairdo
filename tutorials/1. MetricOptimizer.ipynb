{
 "cells": [
  {
   "cell_type": "code",
   "execution_count": 1,
   "id": "08dbe497",
   "metadata": {},
   "outputs": [],
   "source": [
    "import numpy as np\n",
    "import pandas as pd\n",
    "from sklearn.preprocessing import LabelEncoder\n",
    "import matplotlib.pyplot as plt\n",
    "\n",
    "from fado.preprocessing import MetricOptimizer"
   ]
  },
  {
   "cell_type": "markdown",
   "id": "be20bec9",
   "metadata": {},
   "source": [
    "## 1. Load Dataset\n",
    "\n",
    "This code loads the popular iris dataset from a remote location on GitHub using pandas. The dataset contains measurements of the sepal length, sepal width, petal length, and petal width of three species of iris flowers: setosa, versicolor, and virginica.\n",
    "\n",
    "We use label encoding by scikit-learn's LabelEncoder class to convert the non-numeric species column into numeric labels. This transformation is stored in a new variable called 'iris_transform'.\n",
    "\n",
    "After that, the code changes the 'species' column to a binary format, where '0' represents setosa and '1' represents versicolor and virginica. Species represent the protected attribute which corresponds to race, nationality, and gender as available in many real world datasets.\n",
    "\n",
    "We use the 'petal_length' column as the label, we is binarized where values greater than 9 are assigned '1' and values less than or equal to 9 are assigned '0'."
   ]
  },
  {
   "cell_type": "code",
   "execution_count": 2,
   "id": "90cb16b0",
   "metadata": {},
   "outputs": [],
   "source": [
    "iris = pd.read_csv('https://raw.githubusercontent.com/mwaskom/seaborn-data/master/iris.csv')\n",
    "\n",
    "# encode non-numeric columns to labels\n",
    "le = LabelEncoder()\n",
    "iris_transform = iris.apply(le.fit_transform)\n",
    "\n",
    "# make species binary\n",
    "iris_transform['species'] = iris_transform['species'] == 0\n",
    "\n",
    "# make label\n",
    "iris_transform['petal_length'] = iris_transform['petal_length'] > 9"
   ]
  },
  {
   "cell_type": "code",
   "execution_count": 3,
   "id": "19fc6eb5",
   "metadata": {},
   "outputs": [
    {
     "data": {
      "text/html": [
       "<div>\n",
       "<style scoped>\n",
       "    .dataframe tbody tr th:only-of-type {\n",
       "        vertical-align: middle;\n",
       "    }\n",
       "\n",
       "    .dataframe tbody tr th {\n",
       "        vertical-align: top;\n",
       "    }\n",
       "\n",
       "    .dataframe thead th {\n",
       "        text-align: right;\n",
       "    }\n",
       "</style>\n",
       "<table border=\"1\" class=\"dataframe\">\n",
       "  <thead>\n",
       "    <tr style=\"text-align: right;\">\n",
       "      <th></th>\n",
       "      <th>sepal_length</th>\n",
       "      <th>sepal_width</th>\n",
       "      <th>petal_length</th>\n",
       "      <th>petal_width</th>\n",
       "      <th>species</th>\n",
       "    </tr>\n",
       "  </thead>\n",
       "  <tbody>\n",
       "    <tr>\n",
       "      <th>0</th>\n",
       "      <td>8</td>\n",
       "      <td>14</td>\n",
       "      <td>False</td>\n",
       "      <td>1</td>\n",
       "      <td>True</td>\n",
       "    </tr>\n",
       "    <tr>\n",
       "      <th>1</th>\n",
       "      <td>6</td>\n",
       "      <td>9</td>\n",
       "      <td>False</td>\n",
       "      <td>1</td>\n",
       "      <td>True</td>\n",
       "    </tr>\n",
       "    <tr>\n",
       "      <th>2</th>\n",
       "      <td>4</td>\n",
       "      <td>11</td>\n",
       "      <td>False</td>\n",
       "      <td>1</td>\n",
       "      <td>True</td>\n",
       "    </tr>\n",
       "    <tr>\n",
       "      <th>3</th>\n",
       "      <td>3</td>\n",
       "      <td>10</td>\n",
       "      <td>False</td>\n",
       "      <td>1</td>\n",
       "      <td>True</td>\n",
       "    </tr>\n",
       "    <tr>\n",
       "      <th>4</th>\n",
       "      <td>7</td>\n",
       "      <td>15</td>\n",
       "      <td>False</td>\n",
       "      <td>1</td>\n",
       "      <td>True</td>\n",
       "    </tr>\n",
       "  </tbody>\n",
       "</table>\n",
       "</div>"
      ],
      "text/plain": [
       "   sepal_length  sepal_width  petal_length  petal_width  species\n",
       "0             8           14         False            1     True\n",
       "1             6            9         False            1     True\n",
       "2             4           11         False            1     True\n",
       "3             3           10         False            1     True\n",
       "4             7           15         False            1     True"
      ]
     },
     "execution_count": 3,
     "metadata": {},
     "output_type": "execute_result"
    }
   ],
   "source": [
    "iris_transform.head()"
   ]
  },
  {
   "cell_type": "markdown",
   "id": "7b0d7d16",
   "metadata": {},
   "source": [
    "## 2. Data Removal"
   ]
  },
  {
   "cell_type": "code",
   "execution_count": 4,
   "id": "aa41b576",
   "metadata": {},
   "outputs": [],
   "source": [
    "# Initialize MetricOptimizer\n",
    "# Keep 75\\% of the whole dataset\n",
    "preproc = MetricOptimizer(frac=0.75,\n",
    "                          protected_attribute='species',\n",
    "                          label='petal_length')"
   ]
  },
  {
   "cell_type": "code",
   "execution_count": 5,
   "id": "6e2e2d5c",
   "metadata": {},
   "outputs": [],
   "source": [
    "# Create pre-processing instance\n",
    "preproc = preproc.fit(iris_transform)\n",
    "# Remove samples to yield a fair dataset\n",
    "iris_fair = preproc.transform()"
   ]
  },
  {
   "cell_type": "markdown",
   "id": "8f9125c1",
   "metadata": {},
   "source": [
    "### 2.1 Compare Fairness/Discrimination"
   ]
  },
  {
   "cell_type": "code",
   "execution_count": 6,
   "id": "f818563e",
   "metadata": {},
   "outputs": [],
   "source": [
    "from fado.metrics import statistical_parity_absolute_difference"
   ]
  },
  {
   "cell_type": "code",
   "execution_count": 7,
   "id": "45d1ea54",
   "metadata": {},
   "outputs": [],
   "source": [
    "discrimination_fair = statistical_parity_absolute_difference(iris_fair['petal_length'], iris_fair['species'])\n",
    "discrimination_orig = statistical_parity_absolute_difference(iris_transform['petal_length'], iris_transform['species'])"
   ]
  },
  {
   "cell_type": "code",
   "execution_count": 8,
   "id": "0ab929b8",
   "metadata": {},
   "outputs": [
    {
     "name": "stdout",
     "output_type": "stream",
     "text": [
      "The original dataset has a statistical disparity (absolute) value of: 0.99\n",
      "The pre-processed fair dataset has a statistical disparity (absolute) value of: 0.9841269841269841\n",
      "(Lower is better.)\n"
     ]
    }
   ],
   "source": [
    "print(f'The original dataset has a statistical disparity (absolute) value of: {discrimination_orig}')\n",
    "print(f'The pre-processed fair dataset has a statistical disparity (absolute) value of: {discrimination_fair}')\n",
    "print('(Lower is better.)')"
   ]
  },
  {
   "cell_type": "markdown",
   "id": "535aa98b",
   "metadata": {},
   "source": [
    "## 3. Synthetic Fair Data Generation"
   ]
  },
  {
   "cell_type": "code",
   "execution_count": 9,
   "id": "7c57a2be",
   "metadata": {},
   "outputs": [],
   "source": [
    "# Initialize MetricOptimizer\n",
    "# Double the dataset\n",
    "preproc = MetricOptimizer(frac=2,\n",
    "                          protected_attribute='species',\n",
    "                          label='petal_length')"
   ]
  },
  {
   "cell_type": "code",
   "execution_count": 10,
   "id": "aa2509bb",
   "metadata": {},
   "outputs": [],
   "source": [
    "# Create pre-processing instance\n",
    "preproc = preproc.fit(iris_transform)\n",
    "# Remove samples to yield a fair dataset\n",
    "iris_fair = preproc.transform()"
   ]
  },
  {
   "cell_type": "markdown",
   "id": "3841973b",
   "metadata": {},
   "source": [
    "### 3.1 Compare Correlation Matrices"
   ]
  },
  {
   "cell_type": "code",
   "execution_count": 11,
   "id": "752fa9b4",
   "metadata": {},
   "outputs": [
    {
     "data": {
      "image/png": "[encoded data removed]",
      "text/plain": [
       "<Figure size 432x288 with 2 Axes>"
      ]
     },
     "metadata": {
      "needs_background": "light"
     },
     "output_type": "display_data"
    }
   ],
   "source": [
    "fig, (ax1, ax2) = plt.subplots(1, 2)\n",
    "\n",
    "ax1.matshow(iris_transform.corr())\n",
    "ax1.title.set_text(\"Original\")\n",
    "\n",
    "ax2.matshow(iris_fair.iloc[-150::].corr())\n",
    "ax2.title.set_text(\"Generated\")"
   ]
  },
  {
   "cell_type": "code",
   "execution_count": 12,
   "id": "64c10ab9",
   "metadata": {},
   "outputs": [
    {
     "data": {
      "text/plain": [
       "1.8364899366170444"
      ]
     },
     "execution_count": 12,
     "metadata": {},
     "output_type": "execute_result"
    }
   ],
   "source": [
    "np.linalg.norm(iris_transform.corr() - iris_fair.iloc[-150::].corr())"
   ]
  },
  {
   "cell_type": "markdown",
   "id": "d9468cbc",
   "metadata": {},
   "source": [
    "### 3.2 Compare Fairness/Discrimination of Generated Data (includes original)"
   ]
  },
  {
   "cell_type": "code",
   "execution_count": 13,
   "id": "f3d30c29",
   "metadata": {},
   "outputs": [],
   "source": [
    "discrimination_fair = statistical_parity_absolute_difference(iris_fair['petal_length'], iris_fair['species'])\n",
    "discrimination_orig = statistical_parity_absolute_difference(iris_transform['petal_length'], iris_transform['species'])"
   ]
  },
  {
   "cell_type": "code",
   "execution_count": 14,
   "id": "53bf7188",
   "metadata": {},
   "outputs": [
    {
     "name": "stdout",
     "output_type": "stream",
     "text": [
      "The original dataset has a statistical disparity (absolute) value of: 0.99\n",
      "The pre-processed fair dataset has a statistical disparity (absolute) value of: 0.7022222222222222\n",
      "(Lower is better.)\n"
     ]
    }
   ],
   "source": [
    "print(f'The original dataset has a statistical disparity (absolute) value of: {discrimination_orig}')\n",
    "print(f'The pre-processed fair dataset has a statistical disparity (absolute) value of: {discrimination_fair}')\n",
    "print('(Lower is better.)')"
   ]
  },
  {
   "cell_type": "code",
   "execution_count": null,
   "id": "6518b0b1",
   "metadata": {},
   "outputs": [],
   "source": []
  }
 ],
 "metadata": {
  "kernelspec": {
   "display_name": "Python 3 (ipykernel)",
   "language": "python",
   "name": "python3"
  },
  "language_info": {
   "codemirror_mode": {
    "name": "ipython",
    "version": 3
   },
   "file_extension": ".py",
   "mimetype": "text/x-python",
   "name": "python",
   "nbconvert_exporter": "python",
   "pygments_lexer": "ipython3",
   "version": "3.8.13"
  }
 },
 "nbformat": 4,
 "nbformat_minor": 5
}
