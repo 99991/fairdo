{
 "cells": [
  {
   "cell_type": "code",
   "execution_count": 1,
   "id": "94201044",
   "metadata": {},
   "outputs": [],
   "source": [
    "import numpy as np\n",
    "import pandas as pd\n",
    "from sklearn.preprocessing import LabelEncoder\n",
    "import matplotlib.pyplot as plt\n",
    "\n",
    "from fado.preprocessing import MetricOptimizer"
   ]
  },
  {
   "cell_type": "code",
   "execution_count": 2,
   "id": "ac9a6566",
   "metadata": {},
   "outputs": [],
   "source": [
    "iris = pd.read_csv('https://raw.githubusercontent.com/mwaskom/seaborn-data/master/iris.csv')\n",
    "\n",
    "# encode non-numeric columns to labels\n",
    "le = LabelEncoder()\n",
    "iris_transform = iris.apply(le.fit_transform)\n",
    "\n",
    "# make species binary\n",
    "iris_transform['species'] = iris_transform['species'] == 0\n",
    "\n",
    "# make label\n",
    "iris_transform['petal_length'] = iris_transform['petal_length'] > 9"
   ]
  },
  {
   "cell_type": "code",
   "execution_count": 3,
   "id": "6dbc49aa",
   "metadata": {},
   "outputs": [],
   "source": [
    "# Initialize MetricOptimizer\n",
    "# Keep 75\\% of the whole dataset\n",
    "preproc = MetricOptimizer(frac=0.75,\n",
    "                          protected_attribute='species',\n",
    "                          label='petal_length')"
   ]
  },
  {
   "cell_type": "code",
   "execution_count": 4,
   "id": "494c1b93",
   "metadata": {},
   "outputs": [],
   "source": [
    "# Create pre-processing instance\n",
    "preproc = preproc.fit(iris_transform)\n",
    "# Remove samples to yield a fair dataset\n",
    "iris_fair = preproc.transform()"
   ]
  },
  {
   "cell_type": "code",
   "execution_count": null,
   "id": "87f248d6",
   "metadata": {},
   "outputs": [],
   "source": []
  }
 ],
 "metadata": {
  "kernelspec": {
   "display_name": "fair",
   "language": "python",
   "name": "fair"
  },
  "language_info": {
   "codemirror_mode": {
    "name": "ipython",
    "version": 3
   },
   "file_extension": ".py",
   "mimetype": "text/x-python",
   "name": "python",
   "nbconvert_exporter": "python",
   "pygments_lexer": "ipython3",
   "version": "3.8.13"
  }
 },
 "nbformat": 4,
 "nbformat_minor": 5
}
