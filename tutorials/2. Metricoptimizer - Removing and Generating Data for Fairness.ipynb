{
 "cells": [
  {
   "cell_type": "code",
   "execution_count": 1,
   "id": "08dbe497",
   "metadata": {},
   "outputs": [],
   "source": [
    "import numpy as np\n",
    "import pandas as pd\n",
    "from sklearn.preprocessing import LabelEncoder\n",
    "import matplotlib.pyplot as plt\n",
    "# fairdo\n",
    "from fairdo.preprocessing import MetricOptimizer\n",
    "from fairdo.utils.dataset import load_data"
   ]
  },
  {
   "cell_type": "markdown",
   "id": "be20bec9",
   "metadata": {},
   "source": [
    "## 1. Load Dataset\n",
    "\n",
    "When using `load_data`, an identifier is passed as a string to return the yielded dataset. This function returns a triple which consists of a dataframe, the label as a string, and a list of protected attributes. Both label and all protected attributes are columns of the returned dataframe."
   ]
  },
  {
   "cell_type": "code",
   "execution_count": 2,
   "id": "90cb16b0",
   "metadata": {},
   "outputs": [
    {
     "name": "stdout",
     "output_type": "stream",
     "text": [
      "Data downloaded.\n",
      "['Other' 'African-American' 'Caucasian' 'Hispanic' 'Native American'\n",
      " 'Asian']\n",
      "African-American    3696\n",
      "Caucasian           2454\n",
      "Hispanic             637\n",
      "Other                377\n",
      "Asian                 32\n",
      "Native American       18\n",
      "Name: race, dtype: int64\n",
      "(7214, 8)\n"
     ]
    }
   ],
   "source": [
    "df, label, protected_attributes = load_data('compas')"
   ]
  },
  {
   "cell_type": "code",
   "execution_count": 3,
   "id": "19fc6eb5",
   "metadata": {},
   "outputs": [
    {
     "data": {
      "text/html": [
       "<div>\n",
       "<style scoped>\n",
       "    .dataframe tbody tr th:only-of-type {\n",
       "        vertical-align: middle;\n",
       "    }\n",
       "\n",
       "    .dataframe tbody tr th {\n",
       "        vertical-align: top;\n",
       "    }\n",
       "\n",
       "    .dataframe thead th {\n",
       "        text-align: right;\n",
       "    }\n",
       "</style>\n",
       "<table border=\"1\" class=\"dataframe\">\n",
       "  <thead>\n",
       "    <tr style=\"text-align: right;\">\n",
       "      <th></th>\n",
       "      <th>race</th>\n",
       "      <th>priors_count</th>\n",
       "      <th>two_year_recid</th>\n",
       "      <th>age_cat_25 - 45</th>\n",
       "      <th>age_cat_Greater than 45</th>\n",
       "      <th>age_cat_Less than 25</th>\n",
       "      <th>c_charge_degree_F</th>\n",
       "      <th>c_charge_degree_M</th>\n",
       "    </tr>\n",
       "  </thead>\n",
       "  <tbody>\n",
       "    <tr>\n",
       "      <th>0</th>\n",
       "      <td>5</td>\n",
       "      <td>0</td>\n",
       "      <td>0</td>\n",
       "      <td>0</td>\n",
       "      <td>1</td>\n",
       "      <td>0</td>\n",
       "      <td>1</td>\n",
       "      <td>0</td>\n",
       "    </tr>\n",
       "    <tr>\n",
       "      <th>1</th>\n",
       "      <td>0</td>\n",
       "      <td>0</td>\n",
       "      <td>1</td>\n",
       "      <td>1</td>\n",
       "      <td>0</td>\n",
       "      <td>0</td>\n",
       "      <td>1</td>\n",
       "      <td>0</td>\n",
       "    </tr>\n",
       "    <tr>\n",
       "      <th>2</th>\n",
       "      <td>0</td>\n",
       "      <td>4</td>\n",
       "      <td>1</td>\n",
       "      <td>0</td>\n",
       "      <td>0</td>\n",
       "      <td>1</td>\n",
       "      <td>1</td>\n",
       "      <td>0</td>\n",
       "    </tr>\n",
       "    <tr>\n",
       "      <th>3</th>\n",
       "      <td>0</td>\n",
       "      <td>1</td>\n",
       "      <td>0</td>\n",
       "      <td>0</td>\n",
       "      <td>0</td>\n",
       "      <td>1</td>\n",
       "      <td>1</td>\n",
       "      <td>0</td>\n",
       "    </tr>\n",
       "    <tr>\n",
       "      <th>4</th>\n",
       "      <td>5</td>\n",
       "      <td>2</td>\n",
       "      <td>0</td>\n",
       "      <td>1</td>\n",
       "      <td>0</td>\n",
       "      <td>0</td>\n",
       "      <td>1</td>\n",
       "      <td>0</td>\n",
       "    </tr>\n",
       "  </tbody>\n",
       "</table>\n",
       "</div>"
      ],
      "text/plain": [
       "   race  priors_count  two_year_recid  age_cat_25 - 45  \\\n",
       "0     5             0               0                0   \n",
       "1     0             0               1                1   \n",
       "2     0             4               1                0   \n",
       "3     0             1               0                0   \n",
       "4     5             2               0                1   \n",
       "\n",
       "   age_cat_Greater than 45  age_cat_Less than 25  c_charge_degree_F  \\\n",
       "0                        1                     0                  1   \n",
       "1                        0                     0                  1   \n",
       "2                        0                     1                  1   \n",
       "3                        0                     1                  1   \n",
       "4                        0                     0                  1   \n",
       "\n",
       "   c_charge_degree_M  \n",
       "0                  0  \n",
       "1                  0  \n",
       "2                  0  \n",
       "3                  0  \n",
       "4                  0  "
      ]
     },
     "execution_count": 3,
     "metadata": {},
     "output_type": "execute_result"
    }
   ],
   "source": [
    "df.head()"
   ]
  },
  {
   "cell_type": "code",
   "execution_count": 4,
   "id": "cbb45e75",
   "metadata": {},
   "outputs": [
    {
     "data": {
      "text/plain": [
       "['race']"
      ]
     },
     "execution_count": 4,
     "metadata": {},
     "output_type": "execute_result"
    }
   ],
   "source": [
    "protected_attributes"
   ]
  },
  {
   "cell_type": "code",
   "execution_count": 5,
   "id": "01c6e9f6",
   "metadata": {},
   "outputs": [
    {
     "data": {
      "text/plain": [
       "'two_year_recid'"
      ]
     },
     "execution_count": 5,
     "metadata": {},
     "output_type": "execute_result"
    }
   ],
   "source": [
    "label"
   ]
  },
  {
   "cell_type": "markdown",
   "id": "7b0d7d16",
   "metadata": {},
   "source": [
    "## 2. Data Removal As Bias Mitigation\n",
    "\n",
    "Remove data points that might influence the dataset in a discriminatory way. Specify a portion of the dataset that the user at least wants to keep. Algorithm can stop earlier if discrimination threshold is already satisfied, resulting in a larger dataset than set."
   ]
  },
  {
   "cell_type": "code",
   "execution_count": 6,
   "id": "aa41b576",
   "metadata": {},
   "outputs": [],
   "source": [
    "# Initialize MetricOptimizer\n",
    "# Keep 75\\% of the whole dataset\n",
    "preproc = MetricOptimizer(frac=0.75,\n",
    "                          protected_attribute=protected_attributes[0],\n",
    "                          label=label)"
   ]
  },
  {
   "cell_type": "code",
   "execution_count": 7,
   "id": "6e2e2d5c",
   "metadata": {},
   "outputs": [],
   "source": [
    "# Create pre-processing instance\n",
    "preproc = preproc.fit(df)\n",
    "# Remove samples to yield a fair dataset\n",
    "df_fair = preproc.transform()"
   ]
  },
  {
   "cell_type": "markdown",
   "id": "8f9125c1",
   "metadata": {},
   "source": [
    "### 2.1 Compare Fairness/Discrimination\n",
    "\n",
    "Here, we measure the discrimination by using the absolute value of statistical disparity. `y` corresponds to the label and `z` corresponds the protected attribute. Both parameters expect array-like types."
   ]
  },
  {
   "cell_type": "code",
   "execution_count": 8,
   "id": "f818563e",
   "metadata": {},
   "outputs": [],
   "source": [
    "from fairdo.metrics import statistical_parity_abs_diff"
   ]
  },
  {
   "cell_type": "code",
   "execution_count": 9,
   "id": "7818705d",
   "metadata": {},
   "outputs": [],
   "source": [
    "y_fair = df_fair[label]\n",
    "z_fair = df_fair[protected_attributes].to_numpy().flatten() # expects 1d array\n",
    "y = df[label]\n",
    "z = df[protected_attributes].to_numpy().flatten() # expects 1d array"
   ]
  },
  {
   "cell_type": "code",
   "execution_count": 10,
   "id": "45d1ea54",
   "metadata": {},
   "outputs": [],
   "source": [
    "discrimination_fair = statistical_parity_abs_diff(y=y_fair, z=z_fair)\n",
    "discrimination_orig = statistical_parity_abs_diff(y=y, z=z)"
   ]
  },
  {
   "cell_type": "code",
   "execution_count": 11,
   "id": "0ab929b8",
   "metadata": {},
   "outputs": [
    {
     "name": "stdout",
     "output_type": "stream",
     "text": [
      "The original dataset has a statistical disparity (absolute) value of: 1.8856276310662383\n",
      "The pre-processed fair dataset has a statistical disparity (absolute) value of: 0.09804732912604375\n",
      "(Lower is better.)\n"
     ]
    }
   ],
   "source": [
    "print(f'The original dataset has a statistical disparity (absolute) value of: {discrimination_orig}')\n",
    "print(f'The pre-processed fair dataset has a statistical disparity (absolute) value of: {discrimination_fair}')\n",
    "print('(Lower is better.)')"
   ]
  },
  {
   "cell_type": "markdown",
   "id": "acb01b19",
   "metadata": {},
   "source": [
    "Discrimination was largely reduced by only removing 25\\% of the samples."
   ]
  },
  {
   "cell_type": "markdown",
   "id": "535aa98b",
   "metadata": {},
   "source": [
    "## 3. Synthetic Fair Data Generation\n",
    "\n",
    "Use synthetic data to achieve fairness. This algorithm randomly chooses points from a set of synthetic datapoints and merges them with the original data to achieve fairness. This way, the original data is not removed."
   ]
  },
  {
   "cell_type": "code",
   "execution_count": 12,
   "id": "7c57a2be",
   "metadata": {},
   "outputs": [],
   "source": [
    "# Initialize MetricOptimizer\n",
    "# Doubling the dataset's size\n",
    "preproc = MetricOptimizer(frac=2,\n",
    "                          protected_attribute=protected_attributes[0],\n",
    "                          label=label)"
   ]
  },
  {
   "cell_type": "code",
   "execution_count": 13,
   "id": "aa2509bb",
   "metadata": {},
   "outputs": [],
   "source": [
    "# Create pre-processing instance\n",
    "preproc = preproc.fit(df)\n",
    "# Remove samples to yield a fair dataset\n",
    "df_fair = preproc.transform()"
   ]
  },
  {
   "cell_type": "markdown",
   "id": "3841973b",
   "metadata": {},
   "source": [
    "### 3.1 Compare Correlation Matrices\n",
    "\n",
    "We may be interested in checking how the features correlate with eachother. This way, it is possible to evaluate whether the fair dataset resembles the original dataset."
   ]
  },
  {
   "cell_type": "code",
   "execution_count": 14,
   "id": "752fa9b4",
   "metadata": {},
   "outputs": [
    {
     "data": {
      "image/png": "[encoded data removed]",
      "text/plain": [
       "<Figure size 640x480 with 2 Axes>"
      ]
     },
     "metadata": {},
     "output_type": "display_data"
    }
   ],
   "source": [
    "fig, (ax1, ax2) = plt.subplots(1, 2)\n",
    "\n",
    "ax1.matshow(df.corr())\n",
    "ax1.title.set_text(\"Original\")\n",
    "\n",
    "ax2.matshow(df_fair.iloc[-150::].corr())\n",
    "ax2.title.set_text(\"Generated\")"
   ]
  },
  {
   "cell_type": "code",
   "execution_count": 15,
   "id": "64c10ab9",
   "metadata": {},
   "outputs": [
    {
     "data": {
      "text/plain": [
       "0.3581458248913403"
      ]
     },
     "execution_count": 15,
     "metadata": {},
     "output_type": "execute_result"
    }
   ],
   "source": [
    "np.linalg.norm(df.corr() - df_fair.corr())"
   ]
  },
  {
   "cell_type": "markdown",
   "id": "bbdb7a99",
   "metadata": {},
   "source": [
    "Plots look similar and the L2 norm of the difference of the correlation matrices is very low."
   ]
  },
  {
   "cell_type": "markdown",
   "id": "d9468cbc",
   "metadata": {},
   "source": [
    "### 3.2 Compare Fairness/Discrimination of Generated Data (includes original)"
   ]
  },
  {
   "cell_type": "code",
   "execution_count": 16,
   "id": "3598449e",
   "metadata": {},
   "outputs": [],
   "source": [
    "y_fair = df_fair[label]\n",
    "z_fair = df_fair[protected_attributes].to_numpy().flatten() # expects 1d array\n",
    "y = df[label]\n",
    "z = df[protected_attributes].to_numpy().flatten() # expects 1d array"
   ]
  },
  {
   "cell_type": "code",
   "execution_count": 17,
   "id": "f3d30c29",
   "metadata": {},
   "outputs": [],
   "source": [
    "discrimination_fair = statistical_parity_abs_diff(y=y_fair, z=z_fair)\n",
    "discrimination_orig = statistical_parity_abs_diff(y=y, z=z)"
   ]
  },
  {
   "cell_type": "code",
   "execution_count": 18,
   "id": "53bf7188",
   "metadata": {},
   "outputs": [
    {
     "name": "stdout",
     "output_type": "stream",
     "text": [
      "The original dataset has a statistical disparity (absolute) value of: 1.8856276310662383\n",
      "The pre-processed fair dataset has a statistical disparity (absolute) value of: 0.0027526458477828974\n",
      "(Lower is better.)\n"
     ]
    }
   ],
   "source": [
    "print(f'The original dataset has a statistical disparity (absolute) value of: {discrimination_orig}')\n",
    "print(f'The pre-processed fair dataset has a statistical disparity (absolute) value of: {discrimination_fair}')\n",
    "print('(Lower is better.)')"
   ]
  },
  {
   "cell_type": "markdown",
   "id": "1b6d68aa",
   "metadata": {},
   "source": [
    "While keeping the original data, adding synthetic data can make the overall dataset much fairer."
   ]
  }
 ],
 "metadata": {
  "kernelspec": {
   "display_name": "Python 3 (ipykernel)",
   "language": "python",
   "name": "python3"
  },
  "language_info": {
   "codemirror_mode": {
    "name": "ipython",
    "version": 3
   },
   "file_extension": ".py",
   "mimetype": "text/x-python",
   "name": "python",
   "nbconvert_exporter": "python",
   "pygments_lexer": "ipython3",
   "version": "3.8.13"
  }
 },
 "nbformat": 4,
 "nbformat_minor": 5
}
