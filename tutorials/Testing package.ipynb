{
 "cells": [
  {
   "cell_type": "code",
   "execution_count": 1,
   "id": "36519a45",
   "metadata": {},
   "outputs": [],
   "source": [
    "import numpy as np"
   ]
  },
  {
   "cell_type": "code",
   "execution_count": 2,
   "id": "12001d1c",
   "metadata": {},
   "outputs": [],
   "source": [
    "import fado"
   ]
  },
  {
   "cell_type": "code",
   "execution_count": 3,
   "id": "62894da8",
   "metadata": {},
   "outputs": [
    {
     "data": {
      "text/plain": [
       "(array([[-0.49693203, -0.33912228,  0.22914552, ..., -1.17927302,\n",
       "          0.45780561,  0.35600629],\n",
       "        [ 0.01249932,  1.00744397,  0.14009566, ..., -1.76385344,\n",
       "          0.93791554,  0.45936344],\n",
       "        [-0.72021202, -1.24448645, -0.47229097, ...,  0.41394755,\n",
       "         -0.5387903 , -0.26636053],\n",
       "        ...,\n",
       "        [ 1.01027459, -0.13092581,  1.18030384, ..., -1.98959095,\n",
       "         -0.80579965,  0.88702644],\n",
       "        [-1.20775939, -0.3807634 ,  0.12906749, ..., -0.77725344,\n",
       "          0.59910333,  0.22671772],\n",
       "        [ 1.14356604, -0.42459817, -0.31394763, ...,  1.24769039,\n",
       "         -0.30704834, -0.40246308]]),\n",
       " array([0., 0., 0., 1., 1., 0., 1., 0., 1., 1., 0., 0., 1., 0., 1., 0., 1.,\n",
       "        0., 1., 0., 0., 0., 1., 0., 1., 1., 0., 1., 0., 1., 1., 0., 1., 0.,\n",
       "        0., 0., 0., 1., 1., 1., 0., 0., 0., 0., 1., 1., 1., 1., 0., 0., 1.,\n",
       "        1., 0., 0., 0., 0., 1., 0., 1., 0., 1., 1., 0., 1., 1., 1., 1., 1.,\n",
       "        1., 0., 0., 1., 1., 0., 0., 1., 1., 0., 0., 1., 1., 1., 0., 0., 0.,\n",
       "        1., 1., 1., 0., 0., 0., 1., 0., 1., 1., 0., 0., 1., 1., 1., 0., 1.,\n",
       "        1., 0., 1., 1., 1., 1., 1., 1., 1., 1., 1., 0., 0., 1., 0., 1., 0.,\n",
       "        0., 1., 0., 1., 1., 1., 0., 1., 1., 0., 1., 0., 0., 0., 1., 0., 0.,\n",
       "        1., 0., 1., 0., 0., 1., 0., 0., 0., 0., 0., 1., 1., 0., 0., 1., 0.,\n",
       "        0., 0., 0., 0., 0., 0., 1., 1., 1., 0., 0., 0., 0., 1., 1., 0., 0.,\n",
       "        1., 0., 0., 0., 1., 0., 0., 0., 0., 0., 0., 1., 0., 0., 0., 0., 0.,\n",
       "        1., 0., 0., 0., 0., 1., 1., 1., 0., 0., 0., 1., 0., 1., 1., 0., 0.,\n",
       "        0., 1., 1., 0., 0., 0., 0., 0., 0., 1., 1., 0., 0., 1., 1., 1., 1.,\n",
       "        0., 1., 1., 1., 0., 1., 1., 1., 1., 1., 1., 0., 1., 1., 0., 0., 0.,\n",
       "        0., 0., 0., 1., 1., 0., 0., 1., 1., 1., 0., 0., 1., 0., 0., 1., 0.,\n",
       "        0., 1., 0., 1., 0., 1., 1., 1., 0., 0., 1., 0., 1., 1., 1., 0., 1.,\n",
       "        1., 0., 1., 0., 0., 0., 0., 1., 0., 0., 1., 1., 0., 1., 0., 0., 1.,\n",
       "        1., 0., 1., 1., 0., 0., 1., 0., 1., 0., 0., 0., 1., 0., 1., 1., 0.,\n",
       "        1., 1., 1., 1., 0., 1., 1., 1., 0., 1., 0., 0., 1., 1., 0., 0., 1.,\n",
       "        1., 1., 0., 0., 1., 1., 1., 0., 1., 1., 0., 0., 0., 1., 0., 0., 0.,\n",
       "        0., 1., 0., 1., 1., 1., 1., 1., 0., 0., 1., 0., 0., 0., 0., 0., 1.,\n",
       "        0., 0., 1., 1., 0., 0., 1., 0., 0., 1., 1., 1., 1., 1., 1., 1., 0.,\n",
       "        0., 0., 1., 1., 1., 0., 0., 0., 1., 0., 1., 0., 1., 0., 0., 1., 0.,\n",
       "        0., 0., 0., 0., 1., 0., 1., 1., 1., 1., 1., 0., 1., 0., 1., 1., 0.,\n",
       "        0., 1., 1., 1., 1., 1., 0., 0., 0., 0., 0., 0., 0., 1., 1., 1., 0.,\n",
       "        1., 1., 1., 1., 1., 1., 1., 1., 0., 1., 1., 0., 1., 1., 1., 1., 0.,\n",
       "        0., 0., 1., 0., 0., 0., 0., 0., 1., 0., 1., 0., 0., 0., 0., 1., 1.,\n",
       "        0., 1., 0., 0., 1., 0., 1., 0., 1., 1., 0., 0., 1., 0., 1., 1., 1.,\n",
       "        1., 1., 1., 0., 0., 0., 1., 0., 1., 1., 0., 1., 1., 1., 0., 0., 1.,\n",
       "        1., 0., 1., 1., 0., 1., 0., 1., 1., 0., 1., 1., 1., 0., 0., 0., 0.,\n",
       "        0., 1., 1., 0., 1., 0., 0., 1., 0., 1., 0., 0., 0., 1., 1., 0., 1.,\n",
       "        0., 0., 1., 1., 0., 0., 1., 0., 0., 0., 1., 0., 0., 0., 1., 1., 0.,\n",
       "        0., 0., 1., 1., 1., 1., 0., 1., 1., 0., 1., 1., 0., 1., 0., 1., 0.,\n",
       "        0., 0., 1., 0., 1., 1., 1., 1., 1., 0., 1., 1., 1., 1., 0., 0., 1.,\n",
       "        1., 1., 1., 1., 0., 1., 1., 1., 1., 0., 1., 0., 0., 1., 0., 0., 0.,\n",
       "        0., 1., 0., 1., 1., 0., 0., 0., 1., 1., 0., 0., 0., 0., 1., 0., 1.,\n",
       "        0., 0., 1., 0., 0., 0., 1., 0., 0., 1., 1., 0., 0., 0., 0., 0., 1.,\n",
       "        1., 0., 0., 0., 1., 0., 1., 0., 0., 1., 0., 1., 1., 1., 1., 0., 0.,\n",
       "        0., 1., 0., 0., 0., 1., 1., 1., 1., 0., 1., 0., 0., 0., 0., 0., 1.,\n",
       "        0., 1., 1., 1., 1., 0., 0., 1., 1., 1., 1., 1., 0., 0., 0., 0., 1.,\n",
       "        1., 1., 0., 1., 1., 0., 0., 0., 1., 1., 1., 1., 1., 1., 1., 1., 0.,\n",
       "        0., 1., 0., 1., 0., 1., 0., 0., 0., 0., 1., 1., 1., 0., 0., 0., 0.,\n",
       "        0., 0., 1., 0., 1., 1., 1., 0., 1., 0., 0., 0., 0., 0., 0., 1., 1.,\n",
       "        0., 0., 0., 0., 0., 1., 0., 1., 1., 1., 0., 1., 0., 0., 1., 1., 0.,\n",
       "        0., 0., 0., 1., 1., 0., 1., 1., 1., 0., 1., 0., 1., 1., 1., 1., 1.,\n",
       "        0., 0., 0., 0., 1., 0., 1., 0., 1., 1., 1., 0., 0., 1., 0., 1., 1.,\n",
       "        0., 0., 1., 0., 0., 1., 0., 1., 0., 0., 0., 0., 0., 1., 0., 1., 1.,\n",
       "        0., 0., 0., 0., 0., 1., 1., 0., 1., 1., 0., 1., 1., 1., 1., 0., 1.,\n",
       "        1., 1., 1., 0., 1., 1., 1., 0., 1., 1., 0., 1., 1., 0., 0., 1., 1.,\n",
       "        0., 1., 0., 0., 0., 1., 0., 1., 1., 0., 1., 0., 0., 1., 1., 0., 1.,\n",
       "        0., 1., 0., 1., 1., 1., 1., 1., 0., 0., 0., 0., 0., 1., 1., 1., 0.,\n",
       "        0., 1., 0., 0., 0., 0., 0., 1., 1., 1., 0., 0., 0., 0., 1., 1., 1.,\n",
       "        0., 0., 1., 1., 0., 0., 0., 1., 0., 0., 1., 1., 1., 0., 1., 0., 0.,\n",
       "        0., 0., 1., 0., 1., 1., 1., 0., 0., 1., 1., 0., 1., 1., 1., 0., 0.,\n",
       "        1., 1., 0., 0., 1., 1., 1., 1., 1., 1., 1., 0., 1., 1., 1., 0., 0.,\n",
       "        0., 1., 1., 0., 0., 0., 0., 0., 1., 0., 0., 0., 0., 1., 0., 1., 1.,\n",
       "        0., 1., 1., 1., 0., 0., 1., 1., 1., 0., 0., 1., 0., 0., 1., 1., 0.,\n",
       "        1., 1., 1., 0., 0., 1., 0., 1., 0., 0., 0., 1., 1., 0., 1., 1., 0.,\n",
       "        0., 1., 0., 0., 1., 1., 1., 0., 0., 1., 0., 1., 0., 1.]))"
      ]
     },
     "execution_count": 3,
     "metadata": {},
     "output_type": "execute_result"
    }
   ],
   "source": [
    "import numpy as np\n",
    "from sklearn.datasets import make_classification\n",
    "\n",
    "# Create artificial data\n",
    "x, y = make_classification(n_samples=1000, n_features=20, n_informative=2, n_redundant=10, random_state=42)\n",
    "\n",
    "# Convert y to float\n",
    "y = y.astype(float)\n",
    "\n",
    "x, y"
   ]
  },
  {
   "cell_type": "code",
   "execution_count": 4,
   "id": "c8275037",
   "metadata": {},
   "outputs": [],
   "source": [
    "from sklearn.neighbors import NearestNeighbors\n",
    "\n",
    "\n",
    "def consistency_score(x: np.array, y: np.array, n_neighbors=5, **kwargs) -> float:\n",
    "    \"\"\"\n",
    "    Compute the Consistency Score as defined in Learning Fair Representations (Zemel et al. 2013).\n",
    "\n",
    "    This score measures the consistency of the output `y` with respect to nearest neighbors in `x`.\n",
    "    A higher score indicates more fairness.\n",
    "\n",
    "    Parameters\n",
    "    ----------\n",
    "    x : np.array\n",
    "        Array representing the input data.\n",
    "    y : np.array\n",
    "        Array of the same length as x, representing the output data.\n",
    "    n_neighbors : int, optional\n",
    "        Number of neighbors to consider. Default is 5.\n",
    "    **kwargs\n",
    "        Additional keyword arguments. These are not currently used.\n",
    "\n",
    "    Returns\n",
    "    -------\n",
    "    float\n",
    "        The consistency score. Higher values indicate more fairness.\n",
    "    \"\"\"\n",
    "    nbrs = NearestNeighbors(n_neighbors=n_neighbors, algorithm='ball_tree')\n",
    "    nbrs.fit(x)\n",
    "    indices = nbrs.kneighbors(x, return_distance=False)\n",
    "\n",
    "    return 1 - np.mean(np.abs(y - np.mean(y[indices], axis=1)))"
   ]
  },
  {
   "cell_type": "code",
   "execution_count": 12,
   "id": "49d2add1",
   "metadata": {},
   "outputs": [
    {
     "data": {
      "text/html": [
       "<style>#sk-container-id-1 {color: black;background-color: white;}#sk-container-id-1 pre{padding: 0;}#sk-container-id-1 div.sk-toggleable {background-color: white;}#sk-container-id-1 label.sk-toggleable__label {cursor: pointer;display: block;width: 100%;margin-bottom: 0;padding: 0.3em;box-sizing: border-box;text-align: center;}#sk-container-id-1 label.sk-toggleable__label-arrow:before {content: \"▸\";float: left;margin-right: 0.25em;color: #696969;}#sk-container-id-1 label.sk-toggleable__label-arrow:hover:before {color: black;}#sk-container-id-1 div.sk-estimator:hover label.sk-toggleable__label-arrow:before {color: black;}#sk-container-id-1 div.sk-toggleable__content {max-height: 0;max-width: 0;overflow: hidden;text-align: left;background-color: #f0f8ff;}#sk-container-id-1 div.sk-toggleable__content pre {margin: 0.2em;color: black;border-radius: 0.25em;background-color: #f0f8ff;}#sk-container-id-1 input.sk-toggleable__control:checked~div.sk-toggleable__content {max-height: 200px;max-width: 100%;overflow: auto;}#sk-container-id-1 input.sk-toggleable__control:checked~label.sk-toggleable__label-arrow:before {content: \"▾\";}#sk-container-id-1 div.sk-estimator input.sk-toggleable__control:checked~label.sk-toggleable__label {background-color: #d4ebff;}#sk-container-id-1 div.sk-label input.sk-toggleable__control:checked~label.sk-toggleable__label {background-color: #d4ebff;}#sk-container-id-1 input.sk-hidden--visually {border: 0;clip: rect(1px 1px 1px 1px);clip: rect(1px, 1px, 1px, 1px);height: 1px;margin: -1px;overflow: hidden;padding: 0;position: absolute;width: 1px;}#sk-container-id-1 div.sk-estimator {font-family: monospace;background-color: #f0f8ff;border: 1px dotted black;border-radius: 0.25em;box-sizing: border-box;margin-bottom: 0.5em;}#sk-container-id-1 div.sk-estimator:hover {background-color: #d4ebff;}#sk-container-id-1 div.sk-parallel-item::after {content: \"\";width: 100%;border-bottom: 1px solid gray;flex-grow: 1;}#sk-container-id-1 div.sk-label:hover label.sk-toggleable__label {background-color: #d4ebff;}#sk-container-id-1 div.sk-serial::before {content: \"\";position: absolute;border-left: 1px solid gray;box-sizing: border-box;top: 0;bottom: 0;left: 50%;z-index: 0;}#sk-container-id-1 div.sk-serial {display: flex;flex-direction: column;align-items: center;background-color: white;padding-right: 0.2em;padding-left: 0.2em;position: relative;}#sk-container-id-1 div.sk-item {position: relative;z-index: 1;}#sk-container-id-1 div.sk-parallel {display: flex;align-items: stretch;justify-content: center;background-color: white;position: relative;}#sk-container-id-1 div.sk-item::before, #sk-container-id-1 div.sk-parallel-item::before {content: \"\";position: absolute;border-left: 1px solid gray;box-sizing: border-box;top: 0;bottom: 0;left: 50%;z-index: -1;}#sk-container-id-1 div.sk-parallel-item {display: flex;flex-direction: column;z-index: 1;position: relative;background-color: white;}#sk-container-id-1 div.sk-parallel-item:first-child::after {align-self: flex-end;width: 50%;}#sk-container-id-1 div.sk-parallel-item:last-child::after {align-self: flex-start;width: 50%;}#sk-container-id-1 div.sk-parallel-item:only-child::after {width: 0;}#sk-container-id-1 div.sk-dashed-wrapped {border: 1px dashed gray;margin: 0 0.4em 0.5em 0.4em;box-sizing: border-box;padding-bottom: 0.4em;background-color: white;}#sk-container-id-1 div.sk-label label {font-family: monospace;font-weight: bold;display: inline-block;line-height: 1.2em;}#sk-container-id-1 div.sk-label-container {text-align: center;}#sk-container-id-1 div.sk-container {/* jupyter's `normalize.less` sets `[hidden] { display: none; }` but bootstrap.min.css set `[hidden] { display: none !important; }` so we also need the `!important` here to be able to override the default hidden behavior on the sphinx rendered scikit-learn.org. See: https://github.com/scikit-learn/scikit-learn/issues/21755 */display: inline-block !important;position: relative;}#sk-container-id-1 div.sk-text-repr-fallback {display: none;}</style><div id=\"sk-container-id-1\" class=\"sk-top-container\"><div class=\"sk-text-repr-fallback\"><pre>NearestNeighbors(algorithm=&#x27;ball_tree&#x27;)</pre><b>In a Jupyter environment, please rerun this cell to show the HTML representation or trust the notebook. <br />On GitHub, the HTML representation is unable to render, please try loading this page with nbviewer.org.</b></div><div class=\"sk-container\" hidden><div class=\"sk-item\"><div class=\"sk-estimator sk-toggleable\"><input class=\"sk-toggleable__control sk-hidden--visually\" id=\"sk-estimator-id-1\" type=\"checkbox\" checked><label for=\"sk-estimator-id-1\" class=\"sk-toggleable__label sk-toggleable__label-arrow\">NearestNeighbors</label><div class=\"sk-toggleable__content\"><pre>NearestNeighbors(algorithm=&#x27;ball_tree&#x27;)</pre></div></div></div></div></div>"
      ],
      "text/plain": [
       "NearestNeighbors(algorithm='ball_tree')"
      ]
     },
     "execution_count": 12,
     "metadata": {},
     "output_type": "execute_result"
    }
   ],
   "source": [
    "nbrs = NearestNeighbors(n_neighbors=5, algorithm='ball_tree')\n",
    "nbrs.fit(x)"
   ]
  },
  {
   "cell_type": "code",
   "execution_count": 13,
   "id": "13ba8f9a",
   "metadata": {},
   "outputs": [],
   "source": [
    "indices = nbrs.kneighbors(x, return_distance=False)"
   ]
  },
  {
   "cell_type": "code",
   "execution_count": 15,
   "id": "ebd68620",
   "metadata": {},
   "outputs": [
    {
     "data": {
      "text/plain": [
       "array([[  0, 221,  78, 757, 696],\n",
       "       [  1, 474, 137, 952, 216],\n",
       "       [  2, 540, 783, 835, 829],\n",
       "       ...,\n",
       "       [997, 780, 413, 825, 555],\n",
       "       [998,  88, 248, 474, 504],\n",
       "       [999, 914, 512, 399, 161]])"
      ]
     },
     "execution_count": 15,
     "metadata": {},
     "output_type": "execute_result"
    }
   ],
   "source": [
    "indices"
   ]
  },
  {
   "cell_type": "code",
   "execution_count": 19,
   "id": "275cf5df",
   "metadata": {},
   "outputs": [
    {
     "data": {
      "text/plain": [
       "(1000,)"
      ]
     },
     "execution_count": 19,
     "metadata": {},
     "output_type": "execute_result"
    }
   ],
   "source": [
    "(y - np.mean(y[indices], axis=1)).shape"
   ]
  },
  {
   "cell_type": "code",
   "execution_count": 37,
   "id": "e04a2f8a",
   "metadata": {},
   "outputs": [
    {
     "name": "stdout",
     "output_type": "stream",
     "text": [
      "0.4\n"
     ]
    }
   ],
   "source": [
    "def consistency_score_knn(y_pred, X, n_neighbors=5):\n",
    "    \"\"\"\n",
    "    Calculate the consistency score using K-Nearest Neighbors.\n",
    "\n",
    "    Args:\n",
    "        y_pred: predictions from a model.\n",
    "        X: features used to make predictions.\n",
    "        n_neighbors: the number of neighbors to consider.\n",
    "\n",
    "    Returns:\n",
    "        The consistency score.\n",
    "    \"\"\"\n",
    "\n",
    "    # fit the KNN model\n",
    "    nbrs = NearestNeighbors(n_neighbors=n_neighbors+1, algorithm='ball_tree').fit(X)\n",
    "\n",
    "    # get the distances and indices of the k nearest neighbors for each instance\n",
    "    distances, indices = nbrs.kneighbors(X)\n",
    "\n",
    "    # drop the first column (self-loops)\n",
    "    indices = indices[:, 1:]\n",
    "\n",
    "    diff = 0\n",
    "    count = 0\n",
    "\n",
    "    for idx, neighbors in enumerate(indices):\n",
    "        for neighbor in neighbors:\n",
    "            diff += abs(y_pred[idx] - y_pred[neighbor])\n",
    "            count += 1\n",
    "\n",
    "    return 1 - diff / count\n",
    "\n",
    "# test the function\n",
    "y = np.array([1, 0, 1, 0, 1, 0])\n",
    "x = np.array([[1, 2], [2, 3], [3, 4], [4, 5], [5, 6], [6, 7]])\n",
    "\n",
    "print(consistency_score_knn(y_pred, X, n_neighbors=5))"
   ]
  },
  {
   "cell_type": "code",
   "execution_count": 5,
   "id": "6da55ef0",
   "metadata": {},
   "outputs": [],
   "source": [
    "\n",
    "y = np.array([1, 0, 1, 0, 1, 0])\n",
    "x = np.array([[1, 2], [2, 3], [3, 4], [4, 5], [5, 6], [6, 7]])"
   ]
  },
  {
   "cell_type": "code",
   "execution_count": 8,
   "id": "87769584",
   "metadata": {},
   "outputs": [
    {
     "ename": "TypeError",
     "evalue": "consistency_score() got an unexpected keyword argument 'a'",
     "output_type": "error",
     "traceback": [
      "\u001b[0;31m---------------------------------------------------------------------------\u001b[0m",
      "\u001b[0;31mTypeError\u001b[0m                                 Traceback (most recent call last)",
      "Input \u001b[0;32mIn [8]\u001b[0m, in \u001b[0;36m<cell line: 1>\u001b[0;34m()\u001b[0m\n\u001b[0;32m----> 1\u001b[0m \u001b[43mfado\u001b[49m\u001b[38;5;241;43m.\u001b[39;49m\u001b[43mmetrics\u001b[49m\u001b[38;5;241;43m.\u001b[39;49m\u001b[43mconsistency_score\u001b[49m\u001b[43m(\u001b[49m\u001b[43mx\u001b[49m\u001b[43m,\u001b[49m\u001b[43m \u001b[49m\u001b[43my\u001b[49m\u001b[43m,\u001b[49m\u001b[43m \u001b[49m\u001b[43ma\u001b[49m\u001b[38;5;241;43m=\u001b[39;49m\u001b[38;5;241;43m1\u001b[39;49m\u001b[43m)\u001b[49m\n",
      "\u001b[0;31mTypeError\u001b[0m: consistency_score() got an unexpected keyword argument 'a'"
     ]
    }
   ],
   "source": [
    "fado.metrics.consistency_score(x, y, a=1)"
   ]
  },
  {
   "cell_type": "code",
   "execution_count": 7,
   "id": "7865ae7e",
   "metadata": {},
   "outputs": [
    {
     "data": {
      "text/plain": [
       "0.6"
      ]
     },
     "execution_count": 7,
     "metadata": {},
     "output_type": "execute_result"
    }
   ],
   "source": [
    "fado.metrics.consistency_score_objective(x, y)"
   ]
  },
  {
   "cell_type": "code",
   "execution_count": null,
   "id": "cfaa5436",
   "metadata": {},
   "outputs": [],
   "source": []
  },
  {
   "cell_type": "code",
   "execution_count": null,
   "id": "0abd2b25",
   "metadata": {},
   "outputs": [],
   "source": []
  },
  {
   "cell_type": "code",
   "execution_count": 47,
   "id": "3fa109ff",
   "metadata": {},
   "outputs": [
    {
     "name": "stdout",
     "output_type": "stream",
     "text": [
      "[[1 0 1 0 1]\n",
      " [1 1 0 1 0]\n",
      " [1 1 0 0 1]\n",
      " [1 1 0 0 1]\n",
      " [1 1 0 1 0]\n",
      " [1 0 1 0 1]]\n",
      "0.4\n"
     ]
    }
   ],
   "source": [
    "def consistency_score_knn(y_pred, X, n_neighbors=5):\n",
    "    \"\"\"\n",
    "    Calculate the consistency score using K-Nearest Neighbors.\n",
    "\n",
    "    Args:\n",
    "        y_pred: predictions from a model.\n",
    "        X: features used to make predictions.\n",
    "        n_neighbors: the number of neighbors to consider.\n",
    "\n",
    "    Returns:\n",
    "        The consistency score.\n",
    "    \"\"\"\n",
    "\n",
    "    # fit the KNN model\n",
    "    nbrs = NearestNeighbors(n_neighbors=n_neighbors+1, algorithm='ball_tree').fit(X)\n",
    "\n",
    "    # get the distances and indices of the k nearest neighbors for each instance\n",
    "    distances, indices = nbrs.kneighbors(X)\n",
    "\n",
    "    # drop the first column (self-loops)\n",
    "    indices = indices[:, 1:]\n",
    "    \n",
    "    differences = np.abs(y_pred[indices] - y_pred[:, None])\n",
    "    \n",
    "    return 1 - np.mean(differences)\n",
    "\n",
    "# test the function\n",
    "y_pred = np.array([1, 0, 1, 0, 1, 0])\n",
    "X = np.array([[1, 2], [2, 3], [3, 4], [4, 5], [5, 6], [6, 7]])\n",
    "\n",
    "print(consistency_score_knn(y_pred, X, n_neighbors=5))"
   ]
  },
  {
   "cell_type": "code",
   "execution_count": 46,
   "id": "480f7f52",
   "metadata": {},
   "outputs": [
    {
     "data": {
      "text/plain": [
       "(1000, 1)"
      ]
     },
     "execution_count": 46,
     "metadata": {},
     "output_type": "execute_result"
    }
   ],
   "source": [
    "y[:, None].shape"
   ]
  },
  {
   "cell_type": "code",
   "execution_count": 22,
   "id": "7a99fb20",
   "metadata": {},
   "outputs": [
    {
     "name": "stdout",
     "output_type": "stream",
     "text": [
      "0.4\n"
     ]
    }
   ],
   "source": [
    "def consistency_score_knn(y_pred, X, n_neighbors=5):\n",
    "    \"\"\"\n",
    "    Calculate the consistency score using K-Nearest Neighbors.\n",
    "\n",
    "    Args:\n",
    "        y_pred: predictions from a model.\n",
    "        X: features used to make predictions.\n",
    "        n_neighbors: the number of neighbors to consider.\n",
    "\n",
    "    Returns:\n",
    "        The consistency score.\n",
    "    \"\"\"\n",
    "    # Fit the KNN model and find neighbors\n",
    "    indices = NearestNeighbors(n_neighbors=n_neighbors+1).fit(X).kneighbors(X, return_distance=False)[:, 1:]\n",
    "\n",
    "    # Calculate differences\n",
    "    differences = np.abs(y_pred[indices] - y_pred[:, None])\n",
    "\n",
    "    # Return consistency score\n",
    "    return 1 - np.mean(differences)\n",
    "\n",
    "# test the function\n",
    "y_pred = np.array([1, 0, 1, 0, 1, 0])\n",
    "X = np.array([[1, 2], [2, 3], [3, 4], [4, 5], [5, 6], [6, 7]])\n",
    "\n",
    "print(consistency_score_knn(y_pred, X, n_neighbors=5))"
   ]
  },
  {
   "cell_type": "code",
   "execution_count": null,
   "id": "5b07bb51",
   "metadata": {},
   "outputs": [],
   "source": []
  }
 ],
 "metadata": {
  "kernelspec": {
   "display_name": "fairness",
   "language": "python",
   "name": "fairness"
  },
  "language_info": {
   "codemirror_mode": {
    "name": "ipython",
    "version": 3
   },
   "file_extension": ".py",
   "mimetype": "text/x-python",
   "name": "python",
   "nbconvert_exporter": "python",
   "pygments_lexer": "ipython3",
   "version": "3.8.13"
  }
 },
 "nbformat": 4,
 "nbformat_minor": 5
}
