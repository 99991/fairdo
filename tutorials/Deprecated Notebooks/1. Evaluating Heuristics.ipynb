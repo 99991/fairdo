{
 "cells": [
  {
   "cell_type": "code",
   "execution_count": 1,
   "id": "b5ed0721",
   "metadata": {},
   "outputs": [],
   "source": [
    "# Needed to specify settings for the used heuristic\n",
    "from functools import partial\n",
    "# Dataset\n",
    "from fairdo.utils.dataset import load_data\n",
    "# Metric to optimize on\n",
    "from fairdo.metrics import statistical_parity_abs_diff\n",
    "# Load GA and the wrapper for pre-processing data\n",
    "from fairdo.optimize.geneticalgorithm import genetic_algorithm\n",
    "from fairdo.preprocessing import HeuristicWrapper"
   ]
  },
  {
   "cell_type": "markdown",
   "id": "61479ee9",
   "metadata": {},
   "source": [
    "## 1. Load Dataset\n",
    "\n",
    "When using `load_data`, an identifier is passed as a string to return a dataset. This function returns a triple which consists of a `pandas.DataFrame`, the label as a string, and protected attributes as a list of strings. Both label and all protected attributes are columns of the returned `pandas.DataFrame`."
   ]
  },
  {
   "cell_type": "code",
   "execution_count": 2,
   "id": "21a7e78a",
   "metadata": {},
   "outputs": [
    {
     "name": "stdout",
     "output_type": "stream",
     "text": [
      "Data downloaded.\n",
      "[5 0 2 3 4 1]\n",
      "0    3696\n",
      "2    2454\n",
      "3     637\n",
      "5     377\n",
      "1      32\n",
      "4      18\n",
      "Name: race, dtype: int64\n",
      "(7214, 8)\n"
     ]
    }
   ],
   "source": [
    "df, label, protected_attributes = load_data('compas')"
   ]
  },
  {
   "cell_type": "code",
   "execution_count": 5,
   "id": "269eea92",
   "metadata": {},
   "outputs": [],
   "source": [
    "# Declare certain settings for the genetic algorithm\n",
    "# It is also possible to use different genetic operators.\n",
    "heuristic = partial(genetic_algorithm,\n",
    "                    pop_size=100,\n",
    "                    num_generations=500)\n",
    "disc_measure = statistical_parity_abs_diff\n",
    "# Initialize HeuristicWrapper\n",
    "preprocessor = HeuristicWrapper(heuristic=heuristic,\n",
    "                                disc_measure=disc_measure,\n",
    "                                protected_attribute=protected_attributes,\n",
    "                                label=label)"
   ]
  },
  {
   "cell_type": "markdown",
   "id": "fd12100e",
   "metadata": {},
   "source": [
    "After initializing `HeuristicWrapper`, it is possible to use `fit` and `transform` on any dataset without reinitializing."
   ]
  },
  {
   "cell_type": "code",
   "execution_count": 6,
   "id": "09e40061",
   "metadata": {},
   "outputs": [
    {
     "ename": "AttributeError",
     "evalue": "'DataFrame' object has no attribute 'unique'",
     "output_type": "error",
     "traceback": [
      "\u001b[0;31m---------------------------------------------------------------------------\u001b[0m",
      "\u001b[0;31mAttributeError\u001b[0m                            Traceback (most recent call last)",
      "Input \u001b[0;32mIn [6]\u001b[0m, in \u001b[0;36m<cell line: 2>\u001b[0;34m()\u001b[0m\n\u001b[1;32m      1\u001b[0m \u001b[38;5;66;03m# Create pre-processing instance\u001b[39;00m\n\u001b[0;32m----> 2\u001b[0m \u001b[43mpreprocessor\u001b[49m\u001b[38;5;241;43m.\u001b[39;49m\u001b[43mfit\u001b[49m\u001b[43m(\u001b[49m\u001b[43mdf\u001b[49m\u001b[43m)\u001b[49m\n\u001b[1;32m      3\u001b[0m \u001b[38;5;66;03m# Remove samples to yield a fair dataset\u001b[39;00m\n\u001b[1;32m      4\u001b[0m df_fair \u001b[38;5;241m=\u001b[39m preprocessor\u001b[38;5;241m.\u001b[39mtransform()\n",
      "File \u001b[0;32m~/PycharmProjects/fairdo/src/fairdo/preprocessing/solverwrapper.py:110\u001b[0m, in \u001b[0;36mHeuristicWrapper.fit\u001b[0;34m(self, dataset, synthetic_dataset, approach)\u001b[0m\n\u001b[1;32m    107\u001b[0m     \u001b[38;5;28mself\u001b[39m\u001b[38;5;241m.\u001b[39mdims \u001b[38;5;241m=\u001b[39m \u001b[38;5;28mlen\u001b[39m(\u001b[38;5;28mself\u001b[39m\u001b[38;5;241m.\u001b[39mdataset)\n\u001b[1;32m    109\u001b[0m \u001b[38;5;66;03m# define penalty function\u001b[39;00m\n\u001b[0;32m--> 110\u001b[0m penalty \u001b[38;5;241m=\u001b[39m partial(group_missing_penalty, n_groups\u001b[38;5;241m=\u001b[39m\u001b[38;5;28mlen\u001b[39m(\u001b[38;5;28;43mself\u001b[39;49m\u001b[38;5;241;43m.\u001b[39;49m\u001b[43mdataset\u001b[49m\u001b[43m[\u001b[49m\u001b[38;5;28;43mself\u001b[39;49m\u001b[38;5;241;43m.\u001b[39;49m\u001b[43mprotected_attribute\u001b[49m\u001b[43m]\u001b[49m\u001b[38;5;241;43m.\u001b[39;49m\u001b[43munique\u001b[49m()))\n\u001b[1;32m    112\u001b[0m \u001b[38;5;28mself\u001b[39m\u001b[38;5;241m.\u001b[39mfunc \u001b[38;5;241m=\u001b[39m partial(f,\n\u001b[1;32m    113\u001b[0m                     dataset\u001b[38;5;241m=\u001b[39m\u001b[38;5;28mself\u001b[39m\u001b[38;5;241m.\u001b[39mdataset,\n\u001b[1;32m    114\u001b[0m                     label\u001b[38;5;241m=\u001b[39m\u001b[38;5;28mself\u001b[39m\u001b[38;5;241m.\u001b[39mlabel,\n\u001b[0;32m   (...)\u001b[0m\n\u001b[1;32m    118\u001b[0m                     disc_measure\u001b[38;5;241m=\u001b[39m\u001b[38;5;28mself\u001b[39m\u001b[38;5;241m.\u001b[39mdisc_measure,\n\u001b[1;32m    119\u001b[0m                     penalty\u001b[38;5;241m=\u001b[39mpenalty)\n\u001b[1;32m    121\u001b[0m \u001b[38;5;28;01mreturn\u001b[39;00m \u001b[38;5;28mself\u001b[39m\n",
      "File \u001b[0;32m~/app/miniconda3/envs/fairness/lib/python3.8/site-packages/pandas/core/generic.py:5575\u001b[0m, in \u001b[0;36mNDFrame.__getattr__\u001b[0;34m(self, name)\u001b[0m\n\u001b[1;32m   5568\u001b[0m \u001b[38;5;28;01mif\u001b[39;00m (\n\u001b[1;32m   5569\u001b[0m     name \u001b[38;5;129;01mnot\u001b[39;00m \u001b[38;5;129;01min\u001b[39;00m \u001b[38;5;28mself\u001b[39m\u001b[38;5;241m.\u001b[39m_internal_names_set\n\u001b[1;32m   5570\u001b[0m     \u001b[38;5;129;01mand\u001b[39;00m name \u001b[38;5;129;01mnot\u001b[39;00m \u001b[38;5;129;01min\u001b[39;00m \u001b[38;5;28mself\u001b[39m\u001b[38;5;241m.\u001b[39m_metadata\n\u001b[1;32m   5571\u001b[0m     \u001b[38;5;129;01mand\u001b[39;00m name \u001b[38;5;129;01mnot\u001b[39;00m \u001b[38;5;129;01min\u001b[39;00m \u001b[38;5;28mself\u001b[39m\u001b[38;5;241m.\u001b[39m_accessors\n\u001b[1;32m   5572\u001b[0m     \u001b[38;5;129;01mand\u001b[39;00m \u001b[38;5;28mself\u001b[39m\u001b[38;5;241m.\u001b[39m_info_axis\u001b[38;5;241m.\u001b[39m_can_hold_identifiers_and_holds_name(name)\n\u001b[1;32m   5573\u001b[0m ):\n\u001b[1;32m   5574\u001b[0m     \u001b[38;5;28;01mreturn\u001b[39;00m \u001b[38;5;28mself\u001b[39m[name]\n\u001b[0;32m-> 5575\u001b[0m \u001b[38;5;28;01mreturn\u001b[39;00m \u001b[38;5;28;43mobject\u001b[39;49m\u001b[38;5;241;43m.\u001b[39;49m\u001b[38;5;21;43m__getattribute__\u001b[39;49m\u001b[43m(\u001b[49m\u001b[38;5;28;43mself\u001b[39;49m\u001b[43m,\u001b[49m\u001b[43m \u001b[49m\u001b[43mname\u001b[49m\u001b[43m)\u001b[49m\n",
      "\u001b[0;31mAttributeError\u001b[0m: 'DataFrame' object has no attribute 'unique'"
     ]
    }
   ],
   "source": [
    "# Create pre-processing instance\n",
    "preprocessor.fit(df)\n",
    "# Remove samples to yield a fair dataset\n",
    "df_fair = preprocessor.transform()"
   ]
  },
  {
   "cell_type": "markdown",
   "id": "2df246ac",
   "metadata": {},
   "source": [
    "## 2. Compare Discrimination"
   ]
  },
  {
   "cell_type": "code",
   "execution_count": 5,
   "id": "9fd5d099",
   "metadata": {},
   "outputs": [],
   "source": [
    "y_fair = df_fair[label]\n",
    "z_fair = df_fair[protected_attributes].to_numpy().flatten() # expects 1d array\n",
    "y = df[label]\n",
    "z = df[protected_attributes].to_numpy().flatten() # expects 1d array"
   ]
  },
  {
   "cell_type": "code",
   "execution_count": 6,
   "id": "0ca69111",
   "metadata": {},
   "outputs": [],
   "source": [
    "discrimination_fair = statistical_parity_abs_diff(y=y_fair, z=z_fair)\n",
    "discrimination_orig = statistical_parity_abs_diff(y=y, z=z)"
   ]
  },
  {
   "cell_type": "code",
   "execution_count": 7,
   "id": "47991720",
   "metadata": {},
   "outputs": [
    {
     "name": "stdout",
     "output_type": "stream",
     "text": [
      "The original dataset has a statistical disparity (absolute) value of: 1.8856276310662383\n",
      "The pre-processed fair dataset has a statistical disparity (absolute) value of: 0.6200204385646837\n",
      "(Lower is better.)\n"
     ]
    }
   ],
   "source": [
    "print(f'The original dataset has a statistical disparity (absolute) value of: {discrimination_orig}')\n",
    "print(f'The pre-processed fair dataset has a statistical disparity (absolute) value of: {discrimination_fair}')\n",
    "print('(Lower is better.)')"
   ]
  },
  {
   "cell_type": "code",
   "execution_count": null,
   "id": "a91a7776",
   "metadata": {},
   "outputs": [],
   "source": []
  }
 ],
 "metadata": {
  "kernelspec": {
   "display_name": "fair",
   "language": "python",
   "name": "fair"
  },
  "language_info": {
   "codemirror_mode": {
    "name": "ipython",
    "version": 3
   },
   "file_extension": ".py",
   "mimetype": "text/x-python",
   "name": "python",
   "nbconvert_exporter": "python",
   "pygments_lexer": "ipython3",
   "version": "3.8.13"
  }
 },
 "nbformat": 4,
 "nbformat_minor": 5
}
