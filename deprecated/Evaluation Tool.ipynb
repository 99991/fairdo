{
 "cells": [
  {
   "cell_type": "code",
   "execution_count": 1,
   "id": "8ff62f6b",
   "metadata": {},
   "outputs": [
    {
     "name": "stderr",
     "output_type": "stream",
     "text": [
      "2022-06-10 14:12:01.871565: W tensorflow/stream_executor/platform/default/dso_loader.cc:64] Could not load dynamic library 'libcudart.so.11.0'; dlerror: libcudart.so.11.0: cannot open shared object file: No such file or directory\n",
      "2022-06-10 14:12:01.871599: I tensorflow/stream_executor/cuda/cudart_stub.cc:29] Ignore above cudart dlerror if you do not have a GPU set up on your machine.\n"
     ]
    }
   ],
   "source": [
    "import numpy as np\n",
    "import pandas as pd\n",
    "\n",
    "# datasets\n",
    "import aif360\n",
    "from aif360.datasets import AdultDataset, BankDataset, CompasDataset, GermanDataset\n",
    "from aif360.algorithms.preprocessing.optim_preproc_helpers.data_preproc_functions\\\n",
    "            import load_preproc_data_adult, load_preproc_data_german, load_preproc_data_compas\n",
    "import folktables\n",
    "\n",
    "# machine learning\n",
    "from sklearn.preprocessing import StandardScaler\n",
    "from sklearn.pipeline import Pipeline\n",
    "from sklearn.linear_model import LogisticRegression\n",
    "from sklearn.ensemble import RandomForestClassifier\n",
    "from sklearn.svm import SVC\n",
    "from sklearn.neural_network import MLPClassifier\n",
    "\n",
    "# fair preprocessors\n",
    "from aif360.algorithms.preprocessing import DisparateImpactRemover, LFR, Reweighing\n",
    "\n",
    "# evaluation\n",
    "## dataset evaluation\n",
    "from aif360.metrics import BinaryLabelDatasetMetric\n",
    "## classification metrics\n",
    "from sklearn.metrics import roc_auc_score, balanced_accuracy_score, f1_score, accuracy_score\n",
    "from sklearn.metrics import mutual_info_score\n",
    "\n",
    "# plots\n",
    "import seaborn as sns\n",
    "sns.set_theme()\n",
    "import matplotlib.pyplot as plt"
   ]
  },
  {
   "cell_type": "markdown",
   "id": "c4c125dd",
   "metadata": {},
   "source": [
    "# Fairness Evaluation Tool"
   ]
  },
  {
   "cell_type": "markdown",
   "id": "60c2c2f1",
   "metadata": {},
   "source": [
    "This Notebook provides a tool for which algorithms can be compared to eachother with respect to classification metrics and fairness notions.\n",
    "Let have $k$ machine learning models, i.e., $m_i$ with $i=1, \\ldots, k$. We denote data as a set over triples, i.e., $D = \\{(x_i, y_i, z_i)\\}_i^n$ where $x_i$ describes the set of features, $y_i$ describes the label, and $z_i$ describes the protected attribute. The comparisons can each be done as follows:\n",
    "\n",
    "- Preprocessing:\n",
    "    - $\\tilde{D} \\leftarrow$ preprocess data $D$\n",
    "    - Each model is fitted with both the observed and the preprocessed data. We denote $\\tilde{m}_i$ for a model that has been fitted with $\\tilde{D}$ and $m_i$ if it has been fitted with $D$.\n",
    "    - We compare the predictions from each pair $(m_i(x), \\tilde{m}_i(x))_1^k$\n",
    "- Inprocessing:\n",
    "    - For each model $m_i$, we employ the corresponding fair model $\\tilde{m}_i$\n",
    "    - We compare the predictions from each pair $(m_i(x), \\tilde{m}_i(x))_1^k$\n",
    "- Postprocessing:\n",
    "    - Let $y$ be the true label, $\\hat{y}$ be the unaltered prediction of the model $m_i$, and $\\tilde{y}$ be the fair prediction, i.e., $\\tilde{y} = \\mu(m_i(x))$ where $\\mu$ is the postprocessing method. Then we evaluate $(y, \\hat{y})$ and $(y, \\tilde{y})$ for all models.\n",
    "\n",
    "If we plot the results w.r.t. accuracy and fairness notion, we can check whether a Pareto improvement was made when employing fairness methods. This is when the fair model $\\tilde{m}_i$ achieves better results than the biased model $m_i$ in both accuracy and fairness."
   ]
  },
  {
   "cell_type": "markdown",
   "id": "38dc05c0",
   "metadata": {},
   "source": [
    "## 1. Preparation"
   ]
  },
  {
   "cell_type": "markdown",
   "id": "35bae20c",
   "metadata": {},
   "source": [
    "### 1.1. Dataset"
   ]
  },
  {
   "cell_type": "code",
   "execution_count": 2,
   "id": "45ca041e",
   "metadata": {},
   "outputs": [
    {
     "data": {
      "text/plain": [
       "<matplotlib.collections.PathCollection at 0x7f0a24a28ca0>"
      ]
     },
     "execution_count": 2,
     "metadata": {},
     "output_type": "execute_result"
    },
    {
     "data": {
      "image/png": "[encoded data removed]",
      "text/plain": [
       "<Figure size 432x288 with 1 Axes>"
      ]
     },
     "metadata": {},
     "output_type": "display_data"
    }
   ],
   "source": [
    "plt.scatter(np.random.rand(10), np.random.rand(10))"
   ]
  },
  {
   "cell_type": "markdown",
   "id": "1d4c6490",
   "metadata": {},
   "source": [
    "We use one dataset at this moment. Other datasets can be selected here."
   ]
  },
  {
   "cell_type": "code",
   "execution_count": 3,
   "id": "da2b54dc",
   "metadata": {},
   "outputs": [],
   "source": [
    "def selecting_dataset(dataset_used: str, protected_attribute_used: str):\n",
    "    \"\"\"\n",
    "    Parameters\n",
    "    ----------\n",
    "    dataset_used: str\n",
    "    protected_attribute_used: str\n",
    "    \n",
    "    Returns\n",
    "    -------\n",
    "    dataset_orig: pandas DataFrame\n",
    "    privileged_groups: list of dict\n",
    "    unprivileged_groups: list of dict\n",
    "    \n",
    "    \"\"\"\n",
    "    \n",
    "    if dataset_used == \"adult\":\n",
    "        if protected_attribute_used == \"sex\":\n",
    "            privileged_groups = [{'sex': 1}]\n",
    "            unprivileged_groups = [{'sex': 0}]\n",
    "            dataset_orig = load_preproc_data_adult(['sex'])\n",
    "        elif protected_attribute_used == \"race\":\n",
    "            privileged_groups = [{'race': 1}]\n",
    "            unprivileged_groups = [{'race': 0}]\n",
    "            dataset_orig = load_preproc_data_adult(['race'])\n",
    "    elif dataset_used == \"bank\":\n",
    "        if protected_attribute_used == \"age\":\n",
    "            privileged_groups = [{'age': 1}]\n",
    "            unprivileged_groups = [{'age': 0}]\n",
    "            dataset_orig = BankDataset(protected_attribute_names=['age'])\n",
    "    elif dataset_used == \"compas\":\n",
    "        if protected_attribute_used == \"sex\":\n",
    "            privileged_groups = [{'sex': 1}]\n",
    "            unprivileged_groups = [{'sex': 0}]\n",
    "            dataset_orig = load_preproc_data_compas(['sex'])\n",
    "        elif protected_attribute_used == \"race\":\n",
    "            privileged_groups = [{'race': 1}]\n",
    "            unprivileged_groups = [{'race': 0}]\n",
    "            dataset_orig = load_preproc_data_compas(['race'])\n",
    "    elif dataset_used == \"german\":\n",
    "        if protected_attribute_used == \"sex\":\n",
    "            privileged_groups = [{'sex': 1}]\n",
    "            unprivileged_groups = [{'sex': 0}]\n",
    "            dataset_orig = load_preproc_data_german(['sex'])\n",
    "        elif protected_attribute_used == \"age\":\n",
    "            privileged_groups = [{'age': 1}]\n",
    "            unprivileged_groups = [{'age': 0}]\n",
    "            dataset_orig = load_preproc_data_german(['age'])\n",
    "    \n",
    "    return dataset_orig, privileged_groups, unprivileged_groups\n",
    "\n",
    "\n",
    "#random seed\n",
    "np.random.seed(1)\n",
    "\n",
    "# import dataset\n",
    "dataset_used = \"adult\" # \"adult\", \"german\", \"compas\", \"bank\"\n",
    "protected_attribute_used = \"race\" # sex, age, race\n",
    "dataset_orig, privileged_groups, unprivileged_groups = selecting_dataset(dataset_used, protected_attribute_used)\n",
    "dataset_train, dataset_test = dataset_orig.split([0.7], shuffle=True)"
   ]
  },
  {
   "cell_type": "markdown",
   "id": "09d9cf58",
   "metadata": {},
   "source": [
    "### 1.2. Models (classifiers)"
   ]
  },
  {
   "cell_type": "code",
   "execution_count": 4,
   "id": "d83e3103",
   "metadata": {},
   "outputs": [],
   "source": [
    "# initialize machine learning models\n",
    "models = [LogisticRegression,\n",
    "          #RandomForestClassifier,\n",
    "          SVC,\n",
    "          MLPClassifier]"
   ]
  },
  {
   "cell_type": "markdown",
   "id": "3bebd88e",
   "metadata": {},
   "source": [
    "## 2. Preprocessing"
   ]
  },
  {
   "cell_type": "markdown",
   "id": "7d282e29",
   "metadata": {},
   "source": [
    "Preprocess the data.\n",
    "\n",
    "1. Apply each preprocessing method to the dataset."
   ]
  },
  {
   "cell_type": "code",
   "execution_count": 5,
   "id": "17acde28",
   "metadata": {},
   "outputs": [],
   "source": [
    "# initialize list of preprocessors\n",
    "# Optimized Preproc. requires distortion functions\n",
    "preprocessors = [DisparateImpactRemover(sensitive_attribute=protected_attribute_used),\n",
    "                 #LFR(unprivileged_groups=unprivileged_groups,\n",
    "                 #   privileged_groups=privileged_groups)]#,\n",
    "                 Reweighing(unprivileged_groups=unprivileged_groups,\n",
    "                            privileged_groups=privileged_groups)]"
   ]
  },
  {
   "cell_type": "code",
   "execution_count": 6,
   "id": "a43d651f",
   "metadata": {},
   "outputs": [],
   "source": [
    "preproc_datasets = {type(preprocessor).__name__: preprocessor.fit_transform(dataset_train) for preprocessor in preprocessors}"
   ]
  },
  {
   "cell_type": "markdown",
   "id": "45db7504",
   "metadata": {},
   "source": [
    "An element of the preprocessed_datasets list contains the preprocessed datasets done by the specific preprocessing method."
   ]
  },
  {
   "cell_type": "markdown",
   "id": "dbd23431",
   "metadata": {},
   "source": [
    "## 3. Evaluation"
   ]
  },
  {
   "cell_type": "markdown",
   "id": "0a31f9cc",
   "metadata": {},
   "source": [
    "### 3.1. Dataset Evaluation"
   ]
  },
  {
   "cell_type": "markdown",
   "id": "2a08d11b",
   "metadata": {},
   "source": [
    "AIF360 provides metrics to evaluate whether the dataset is fair. https://aif360.readthedocs.io/en/latest/modules/generated/aif360.metrics.BinaryLabelDatasetMetric.html"
   ]
  },
  {
   "cell_type": "code",
   "execution_count": 7,
   "id": "45d1b0e4",
   "metadata": {},
   "outputs": [],
   "source": [
    "def get_BinaryLabelDatasetMetric(dataset_train, preproc_datasets,\n",
    "                                 privileged_groups,\n",
    "                                 unprivileged_groups):\n",
    "    \n",
    "    dataset_metric = BinaryLabelDatasetMetric(dataset_train,\n",
    "                                              unprivileged_groups=unprivileged_groups,\n",
    "                                              privileged_groups=privileged_groups)\n",
    "\n",
    "    preproc_dataset_metrics = {key: BinaryLabelDatasetMetric(preproc_datasets[key],\n",
    "                                                             unprivileged_groups=unprivileged_groups,\n",
    "                                                             privileged_groups=privileged_groups) for key in preproc_datasets}\n",
    "\n",
    "    return dataset_metric, preproc_dataset_metrics"
   ]
  },
  {
   "cell_type": "code",
   "execution_count": 8,
   "id": "985c2445",
   "metadata": {},
   "outputs": [],
   "source": [
    "dataset_metric, preproc_dataset_metrics =\\\n",
    "                            get_BinaryLabelDatasetMetric(dataset_train,\n",
    "                                                        preproc_datasets,\n",
    "                                                        privileged_groups,\n",
    "                                                        unprivileged_groups)"
   ]
  },
  {
   "cell_type": "code",
   "execution_count": 9,
   "id": "727f25c9",
   "metadata": {},
   "outputs": [],
   "source": [
    "evaluate_dataset_metrics = lambda keyName, blDatasetMetric: pd.DataFrame({\n",
    "    'Name': keyName,\n",
    "    'Base Rate': blDatasetMetric.base_rate(),\n",
    "    'Consistency': blDatasetMetric.consistency(),\n",
    "    'Statistical Parity Difference': blDatasetMetric.statistical_parity_difference(),\n",
    "    'Disparate Impact': blDatasetMetric.disparate_impact(),\n",
    "    'Smoothed Empirical Differential Fairness': blDatasetMetric.smoothed_empirical_differential_fairness()\n",
    "})"
   ]
  },
  {
   "cell_type": "code",
   "execution_count": 10,
   "id": "316cbb8d",
   "metadata": {},
   "outputs": [],
   "source": [
    "dataset_evaluation = evaluate_dataset_metrics('Dataset (Original)', dataset_metric)"
   ]
  },
  {
   "cell_type": "code",
   "execution_count": 11,
   "id": "360493cf",
   "metadata": {},
   "outputs": [],
   "source": [
    "all_dataset_evaluation = pd.concat([evaluate_dataset_metrics(key, value) for key, value in preproc_dataset_metrics.items()])\n",
    "all_dataset_evaluation = pd.concat([dataset_evaluation, all_dataset_evaluation])"
   ]
  },
  {
   "cell_type": "code",
   "execution_count": 12,
   "id": "ca71a5e1",
   "metadata": {},
   "outputs": [
    {
     "data": {
      "text/html": [
       "<div>\n",
       "<style scoped>\n",
       "    .dataframe tbody tr th:only-of-type {\n",
       "        vertical-align: middle;\n",
       "    }\n",
       "\n",
       "    .dataframe tbody tr th {\n",
       "        vertical-align: top;\n",
       "    }\n",
       "\n",
       "    .dataframe thead th {\n",
       "        text-align: right;\n",
       "    }\n",
       "</style>\n",
       "<table border=\"1\" class=\"dataframe\">\n",
       "  <thead>\n",
       "    <tr style=\"text-align: right;\">\n",
       "      <th></th>\n",
       "      <th>Name</th>\n",
       "      <th>Base Rate</th>\n",
       "      <th>Consistency</th>\n",
       "      <th>Statistical Parity Difference</th>\n",
       "      <th>Disparate Impact</th>\n",
       "      <th>Smoothed Empirical Differential Fairness</th>\n",
       "    </tr>\n",
       "  </thead>\n",
       "  <tbody>\n",
       "    <tr>\n",
       "      <th>0</th>\n",
       "      <td>Dataset (Original)</td>\n",
       "      <td>0.237913</td>\n",
       "      <td>0.711065</td>\n",
       "      <td>-0.097036</td>\n",
       "      <td>0.615086</td>\n",
       "      <td>0.485582</td>\n",
       "    </tr>\n",
       "    <tr>\n",
       "      <th>0</th>\n",
       "      <td>DisparateImpactRemover</td>\n",
       "      <td>0.237913</td>\n",
       "      <td>0.711065</td>\n",
       "      <td>-0.097036</td>\n",
       "      <td>0.615086</td>\n",
       "      <td>0.485582</td>\n",
       "    </tr>\n",
       "    <tr>\n",
       "      <th>0</th>\n",
       "      <td>Reweighing</td>\n",
       "      <td>0.237913</td>\n",
       "      <td>0.711065</td>\n",
       "      <td>0.000000</td>\n",
       "      <td>1.000000</td>\n",
       "      <td>0.000183</td>\n",
       "    </tr>\n",
       "  </tbody>\n",
       "</table>\n",
       "</div>"
      ],
      "text/plain": [
       "                     Name  Base Rate  Consistency  \\\n",
       "0      Dataset (Original)   0.237913     0.711065   \n",
       "0  DisparateImpactRemover   0.237913     0.711065   \n",
       "0              Reweighing   0.237913     0.711065   \n",
       "\n",
       "   Statistical Parity Difference  Disparate Impact  \\\n",
       "0                      -0.097036          0.615086   \n",
       "0                      -0.097036          0.615086   \n",
       "0                       0.000000          1.000000   \n",
       "\n",
       "   Smoothed Empirical Differential Fairness  \n",
       "0                                  0.485582  \n",
       "0                                  0.485582  \n",
       "0                                  0.000183  "
      ]
     },
     "execution_count": 12,
     "metadata": {},
     "output_type": "execute_result"
    }
   ],
   "source": [
    "all_dataset_evaluation.head()"
   ]
  },
  {
   "cell_type": "code",
   "execution_count": 13,
   "id": "00c0c0f6",
   "metadata": {},
   "outputs": [],
   "source": [
    "#sns.scatterplot(data=all_dataset_evaluation, x=\"Statistical Parity Difference\", y=\"Disparate Impact\", hue='Name')"
   ]
  },
  {
   "cell_type": "markdown",
   "id": "992126ef",
   "metadata": {},
   "source": [
    "### 3.2. Classification Evaluation"
   ]
  },
  {
   "cell_type": "markdown",
   "id": "3f526955",
   "metadata": {},
   "source": [
    "#### 3.2.1. Training"
   ]
  },
  {
   "cell_type": "code",
   "execution_count": 14,
   "id": "d0707d7e",
   "metadata": {},
   "outputs": [],
   "source": [
    "# dataset preparation\n",
    "X_train = dataset_train.features\n",
    "y_train = dataset_train.labels.ravel()\n",
    "Xs_preproc = {key: value.features for key, value in preproc_datasets.items()}\n",
    "ys_preproc = {key: value.labels.ravel() for key, value in preproc_datasets.items()}"
   ]
  },
  {
   "cell_type": "code",
   "execution_count": 15,
   "id": "cdf6140c",
   "metadata": {},
   "outputs": [],
   "source": [
    "pipeline = lambda name, model: Pipeline([('scaler', StandardScaler()), (name, model)])"
   ]
  },
  {
   "cell_type": "code",
   "execution_count": 16,
   "id": "575b815d",
   "metadata": {},
   "outputs": [],
   "source": [
    "# create multiple models for each preprocessed dataset\n",
    "models_trained = {type(model()).__name__:\n",
    "                  {type(preprocessor).__name__: model() for preprocessor in preprocessors} for model in models}"
   ]
  },
  {
   "cell_type": "code",
   "execution_count": 17,
   "id": "e1fc6a82",
   "metadata": {},
   "outputs": [],
   "source": [
    "# train models\n",
    "for key_model, value_model in models_trained.items():\n",
    "    for key_preproc in value_model:\n",
    "        model = models_trained[key_model][key_preproc]\n",
    "        models_trained[key_model][key_preproc] =\\\n",
    "                pipeline(type(model).__name__, model).fit(Xs_preproc[key_preproc], ys_preproc[key_preproc])"
   ]
  },
  {
   "cell_type": "code",
   "execution_count": 18,
   "id": "076c96b6",
   "metadata": {},
   "outputs": [
    {
     "data": {
      "text/plain": [
       "{'LogisticRegression': {'DisparateImpactRemover': Pipeline(steps=[('scaler', StandardScaler()),\n",
       "                  ('LogisticRegression', LogisticRegression())]),\n",
       "  'Reweighing': Pipeline(steps=[('scaler', StandardScaler()),\n",
       "                  ('LogisticRegression', LogisticRegression())])},\n",
       " 'SVC': {'DisparateImpactRemover': Pipeline(steps=[('scaler', StandardScaler()), ('SVC', SVC())]),\n",
       "  'Reweighing': Pipeline(steps=[('scaler', StandardScaler()), ('SVC', SVC())])},\n",
       " 'MLPClassifier': {'DisparateImpactRemover': Pipeline(steps=[('scaler', StandardScaler()),\n",
       "                  ('MLPClassifier', MLPClassifier())]),\n",
       "  'Reweighing': Pipeline(steps=[('scaler', StandardScaler()),\n",
       "                  ('MLPClassifier', MLPClassifier())])}}"
      ]
     },
     "execution_count": 18,
     "metadata": {},
     "output_type": "execute_result"
    }
   ],
   "source": [
    "models_trained"
   ]
  },
  {
   "cell_type": "markdown",
   "id": "810e8133",
   "metadata": {},
   "source": [
    "#### 3.2.2. Evaluation on Preprocessed Testset"
   ]
  },
  {
   "cell_type": "code",
   "execution_count": 19,
   "id": "a7172908",
   "metadata": {},
   "outputs": [],
   "source": [
    "def calc_MI(x, y, bins=10):\n",
    "    # discrimination measurement\n",
    "    c_xy = np.histogram2d(x, y, bins)[0]\n",
    "    mi = mutual_info_score(None, None, contingency=c_xy)\n",
    "    return mi"
   ]
  },
  {
   "cell_type": "code",
   "execution_count": 20,
   "id": "f65886cf",
   "metadata": {},
   "outputs": [],
   "source": [
    "X_test, y_test = dataset_test.features, dataset_test.labels.ravel()\n",
    "\n",
    "# create results dictionary\n",
    "results = {type(model()).__name__:\n",
    "                  {type(preprocessor).__name__: {} for preprocessor in preprocessors} for model in models}"
   ]
  },
  {
   "cell_type": "code",
   "execution_count": 21,
   "id": "ce5a387d",
   "metadata": {},
   "outputs": [],
   "source": [
    "# evaluate the models\n",
    "for key_model in models_trained:\n",
    "    for key_preproc in models_trained[key_model]:\n",
    "        # Classification Metric\n",
    "        y_pred =\\\n",
    "            models_trained[key_model][key_preproc].predict(X_test)\n",
    "        \n",
    "        results[key_model][key_preproc]['F1 Score'] =\\\n",
    "            f1_score(y_test, y_pred)\n",
    "        \n",
    "        # Fairness Notion\n",
    "        results[key_model][key_preproc]['Mutual Information'] =\\\n",
    "            calc_MI(y_test, y_pred)"
   ]
  },
  {
   "cell_type": "code",
   "execution_count": 22,
   "id": "a90c7ee4",
   "metadata": {},
   "outputs": [
    {
     "data": {
      "text/plain": [
       "{'LogisticRegression': {'DisparateImpactRemover': {'F1 Score': 0.4887868620872329,\n",
       "   'Mutual Information': 0.06704140158053203},\n",
       "  'Reweighing': {'F1 Score': 0.4887868620872329,\n",
       "   'Mutual Information': 0.06704140158053203}},\n",
       " 'SVC': {'DisparateImpactRemover': {'F1 Score': 0.4887868620872329,\n",
       "   'Mutual Information': 0.06704140158053203},\n",
       "  'Reweighing': {'F1 Score': 0.4887868620872329,\n",
       "   'Mutual Information': 0.06704140158053203}},\n",
       " 'MLPClassifier': {'DisparateImpactRemover': {'F1 Score': 0.4905329593267882,\n",
       "   'Mutual Information': 0.06686108085099472},\n",
       "  'Reweighing': {'F1 Score': 0.4936422226093015,\n",
       "   'Mutual Information': 0.06738047471366393}}}"
      ]
     },
     "execution_count": 22,
     "metadata": {},
     "output_type": "execute_result"
    }
   ],
   "source": [
    "results"
   ]
  },
  {
   "cell_type": "markdown",
   "id": "404b4715",
   "metadata": {},
   "source": [
    "#### 3.2.3. Plot"
   ]
  },
  {
   "cell_type": "code",
   "execution_count": 23,
   "id": "09ed8e09",
   "metadata": {},
   "outputs": [],
   "source": [
    "plot_classifier = 'LogisticRegression'"
   ]
  },
  {
   "cell_type": "code",
   "execution_count": 24,
   "id": "16b31295",
   "metadata": {},
   "outputs": [],
   "source": [
    "def plot_error_discrimination(results, plot_classifier):\n",
    "    # Single model + Multiple Preprocessor\n",
    "    df = pd.DataFrame(results[plot_classifier]).transpose()\n",
    "    df['Preprocessor'] = df.index\n",
    "    sns.relplot(data=df, x='Mutual Information', y='F1 Score', hue='Preprocessor')"
   ]
  },
  {
   "cell_type": "code",
   "execution_count": 25,
   "id": "40e38539",
   "metadata": {},
   "outputs": [
    {
     "data": {
      "image/png": "[encoded data removed]",
      "text/plain": [
       "<Figure size 541.1x360 with 1 Axes>"
      ]
     },
     "metadata": {},
     "output_type": "display_data"
    }
   ],
   "source": [
    "plot_error_discrimination(results, plot_classifier)"
   ]
  },
  {
   "cell_type": "code",
   "execution_count": 26,
   "id": "8446fda8",
   "metadata": {},
   "outputs": [],
   "source": [
    "def results_to_df(results):\n",
    "    df_list = []\n",
    "    for key_model in results:\n",
    "        df = pd.DataFrame(results[key_model]).transpose()\n",
    "        df['Preprocessor'] = df.index\n",
    "        \n",
    "        df_list.append(df)\n",
    "    \n",
    "    df_concat = pd.concat(df_list, keys=list(results.keys()))\n",
    "    df_concat['Model'] = df_concat.index\n",
    "    df_concat = df_concat.reset_index()\n",
    "    df_concat = df_concat.drop(columns = ['level_0', 'level_1'])\n",
    "    \n",
    "    return df_concat"
   ]
  },
  {
   "cell_type": "code",
   "execution_count": 27,
   "id": "3c27abdb",
   "metadata": {},
   "outputs": [],
   "source": [
    "df_plot = results_to_df(results)"
   ]
  },
  {
   "cell_type": "code",
   "execution_count": 28,
   "id": "5ceb4123",
   "metadata": {},
   "outputs": [
    {
     "data": {
      "text/html": [
       "<div>\n",
       "<style scoped>\n",
       "    .dataframe tbody tr th:only-of-type {\n",
       "        vertical-align: middle;\n",
       "    }\n",
       "\n",
       "    .dataframe tbody tr th {\n",
       "        vertical-align: top;\n",
       "    }\n",
       "\n",
       "    .dataframe thead th {\n",
       "        text-align: right;\n",
       "    }\n",
       "</style>\n",
       "<table border=\"1\" class=\"dataframe\">\n",
       "  <thead>\n",
       "    <tr style=\"text-align: right;\">\n",
       "      <th></th>\n",
       "      <th>F1 Score</th>\n",
       "      <th>Mutual Information</th>\n",
       "      <th>Preprocessor</th>\n",
       "      <th>Model</th>\n",
       "    </tr>\n",
       "  </thead>\n",
       "  <tbody>\n",
       "    <tr>\n",
       "      <th>0</th>\n",
       "      <td>0.488787</td>\n",
       "      <td>0.067041</td>\n",
       "      <td>DisparateImpactRemover</td>\n",
       "      <td>(LogisticRegression, DisparateImpactRemover)</td>\n",
       "    </tr>\n",
       "    <tr>\n",
       "      <th>1</th>\n",
       "      <td>0.488787</td>\n",
       "      <td>0.067041</td>\n",
       "      <td>Reweighing</td>\n",
       "      <td>(LogisticRegression, Reweighing)</td>\n",
       "    </tr>\n",
       "    <tr>\n",
       "      <th>2</th>\n",
       "      <td>0.488787</td>\n",
       "      <td>0.067041</td>\n",
       "      <td>DisparateImpactRemover</td>\n",
       "      <td>(SVC, DisparateImpactRemover)</td>\n",
       "    </tr>\n",
       "    <tr>\n",
       "      <th>3</th>\n",
       "      <td>0.488787</td>\n",
       "      <td>0.067041</td>\n",
       "      <td>Reweighing</td>\n",
       "      <td>(SVC, Reweighing)</td>\n",
       "    </tr>\n",
       "    <tr>\n",
       "      <th>4</th>\n",
       "      <td>0.490533</td>\n",
       "      <td>0.066861</td>\n",
       "      <td>DisparateImpactRemover</td>\n",
       "      <td>(MLPClassifier, DisparateImpactRemover)</td>\n",
       "    </tr>\n",
       "    <tr>\n",
       "      <th>5</th>\n",
       "      <td>0.493642</td>\n",
       "      <td>0.067380</td>\n",
       "      <td>Reweighing</td>\n",
       "      <td>(MLPClassifier, Reweighing)</td>\n",
       "    </tr>\n",
       "  </tbody>\n",
       "</table>\n",
       "</div>"
      ],
      "text/plain": [
       "   F1 Score  Mutual Information            Preprocessor  \\\n",
       "0  0.488787            0.067041  DisparateImpactRemover   \n",
       "1  0.488787            0.067041              Reweighing   \n",
       "2  0.488787            0.067041  DisparateImpactRemover   \n",
       "3  0.488787            0.067041              Reweighing   \n",
       "4  0.490533            0.066861  DisparateImpactRemover   \n",
       "5  0.493642            0.067380              Reweighing   \n",
       "\n",
       "                                          Model  \n",
       "0  (LogisticRegression, DisparateImpactRemover)  \n",
       "1              (LogisticRegression, Reweighing)  \n",
       "2                 (SVC, DisparateImpactRemover)  \n",
       "3                             (SVC, Reweighing)  \n",
       "4       (MLPClassifier, DisparateImpactRemover)  \n",
       "5                   (MLPClassifier, Reweighing)  "
      ]
     },
     "execution_count": 28,
     "metadata": {},
     "output_type": "execute_result"
    }
   ],
   "source": [
    "df_plot"
   ]
  },
  {
   "cell_type": "code",
   "execution_count": 29,
   "id": "fd900a6c",
   "metadata": {},
   "outputs": [
    {
     "data": {
      "text/plain": [
       "<seaborn.axisgrid.FacetGrid at 0x7f0a21d8aac0>"
      ]
     },
     "execution_count": 29,
     "metadata": {},
     "output_type": "execute_result"
    },
    {
     "data": {
      "image/png": "[encoded data removed]",
      "text/plain": [
       "<Figure size 670.975x360 with 1 Axes>"
      ]
     },
     "metadata": {},
     "output_type": "display_data"
    }
   ],
   "source": [
    "plot = sns.relplot(data=df_plot, x='Mutual Information', y='F1 Score', hue='Model')\n",
    "plot.set_xlabels(\"Discrimination (MI)\")\n",
    "#plot.set(ylim=(0, 1))\n",
    "#plot.set(xlim=(0, 1))"
   ]
  }
 ],
 "metadata": {
  "kernelspec": {
   "display_name": "fair",
   "language": "python",
   "name": "fair"
  },
  "language_info": {
   "codemirror_mode": {
    "name": "ipython",
    "version": 3
   },
   "file_extension": ".py",
   "mimetype": "text/x-python",
   "name": "python",
   "nbconvert_exporter": "python",
   "pygments_lexer": "ipython3",
   "version": "3.8.13"
  }
 },
 "nbformat": 4,
 "nbformat_minor": 5
}
